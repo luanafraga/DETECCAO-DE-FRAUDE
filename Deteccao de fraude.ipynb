{
 "cells": [
  {
   "cell_type": "markdown",
   "id": "1c4ee4ff",
   "metadata": {},
   "source": [
    "# Detecção de fraudes\n",
    "\n",
    "Autora: Luana Fraga de Andrade Araujo\n",
    "\n",
    "E-mail: luafraga1@hotmail.com\n",
    "\n",
    "LinkedIn: www.linkedin.com/in/luana-fraga-63a794193/\n",
    "\n",
    "Github: https://github.com/luanafraga"
   ]
  },
  {
   "cell_type": "markdown",
   "id": "cc2f1e19",
   "metadata": {},
   "source": [
    "# Objetivo do projeto"
   ]
  },
  {
   "cell_type": "markdown",
   "id": "0f7fa18b",
   "metadata": {},
   "source": [
    "O objetivo deste projeto é a **detecção**, e consequentemente a **diminuição de fraudes** em transações financeiras, identificando os **padrões de compra** de cada cliente a partir de informações como nome, cartão de crédito e documentos pessoais."
   ]
  },
  {
   "cell_type": "markdown",
   "id": "b8ade4e8",
   "metadata": {},
   "source": [
    "# Base de dados"
   ]
  },
  {
   "cell_type": "markdown",
   "id": "e9898ea2",
   "metadata": {},
   "source": [
    "A base de dados possui informações sobre:\n",
    "\n",
    "   - **step**: mapeia uma unidade de tempo no mundo real. Neste caso, 1 passo é 1 hora de tempo. Total de etapas 744 (simulação de 30 dias).\n",
    "\n",
    "   - **type**: CASH-IN, CASH-OUT, DEBIT, PAYMENT and TRANSFER. \n",
    "(caixa-de-entrada, caixa-de-saida, débito, pagamento e transferência)\n",
    "\n",
    "   - **amount**: valor da transação em moeda local.\n",
    "\n",
    "   - **nameOrig**: cliente que iniciou a transação\n",
    "\n",
    "   - **oldbalanceOrg**: saldo inicial antes da transação\n",
    "   \n",
    "   - **newbalanceOrig**: novo saldo após a transação\n",
    "\n",
    "   - **nameDest**: cliente que é o destinatário da transação\n",
    "\n",
    "   - **oldbalanceDest**: destinatário do saldo inicial antes da transação. \n",
    "\n",
    "   - **newbalanceDest**: novo destinatário do saldo após a transação. \n",
    "\n",
    "   - **isFraud**: São as transações feitas pelos agentes fraudulentos dentro da simulação. \n",
    "\n",
    "   - **isFlaggedFraud**: O modelo de negócios visa controlar transferências massivas de uma conta para outra e sinaliza tentativas ilegais. Uma tentativa ilegal neste conjunto de dados é uma tentativa de transferir mais de 200.000 em uma única transação."
   ]
  },
  {
   "cell_type": "markdown",
   "id": "bdc939dc",
   "metadata": {
    "heading_collapsed": true
   },
   "source": [
    "# Importação de Pacotes"
   ]
  },
  {
   "cell_type": "code",
   "execution_count": 1,
   "id": "e1af0988",
   "metadata": {
    "ExecuteTime": {
     "end_time": "2022-06-19T17:14:20.739624Z",
     "start_time": "2022-06-19T17:14:13.675285Z"
    },
    "hidden": true
   },
   "outputs": [],
   "source": [
    "import pandas as pd\n",
    "import numpy as np\n",
    "\n",
    "# para visualização dos gráficos\n",
    "import seaborn as sns\n",
    "import matplotlib.pyplot as plt\n",
    "import pandas_profiling\n",
    "\n",
    "# para balanceamento do target\n",
    "from imblearn.over_sampling import SMOTE"
   ]
  },
  {
   "cell_type": "code",
   "execution_count": 2,
   "id": "2872a887",
   "metadata": {
    "ExecuteTime": {
     "end_time": "2022-06-19T17:14:20.756687Z",
     "start_time": "2022-06-19T17:14:20.743123Z"
    },
    "hidden": true
   },
   "outputs": [],
   "source": [
    "# para criação e validação dos modelos de machine learning\n",
    "from sklearn.model_selection import train_test_split\n",
    "from sklearn.linear_model import LogisticRegression\n",
    "from sklearn import metrics\n",
    "from sklearn.tree import DecisionTreeClassifier\n",
    "from sklearn.ensemble import RandomForestClassifier\n",
    "from sklearn.model_selection import RandomizedSearchCV\n",
    "from sklearn.metrics import classification_report, confusion_matrix, accuracy_score, ConfusionMatrixDisplay\n",
    "\n",
    "# para garantir a replicabilidade do código\n",
    "SEED=42"
   ]
  },
  {
   "cell_type": "code",
   "execution_count": 3,
   "id": "86c635b6",
   "metadata": {
    "ExecuteTime": {
     "end_time": "2022-06-19T17:14:20.773732Z",
     "start_time": "2022-06-19T17:14:20.764891Z"
    },
    "hidden": true
   },
   "outputs": [],
   "source": [
    "sns.set_palette('pastel')\n",
    "sns.set_style('white')"
   ]
  },
  {
   "cell_type": "markdown",
   "id": "61eaad92",
   "metadata": {
    "ExecuteTime": {
     "end_time": "2022-06-01T13:57:48.536561Z",
     "start_time": "2022-06-01T13:57:48.507681Z"
    },
    "heading_collapsed": true
   },
   "source": [
    "# Leitura dos dados"
   ]
  },
  {
   "cell_type": "code",
   "execution_count": 4,
   "id": "55467364",
   "metadata": {
    "ExecuteTime": {
     "end_time": "2022-06-19T17:14:20.791616Z",
     "start_time": "2022-06-19T17:14:20.787096Z"
    },
    "hidden": true
   },
   "outputs": [],
   "source": [
    "pd.set_option('display.max_columns', 100)\n",
    "pd.set_option('display.max_colwidth', None)"
   ]
  },
  {
   "cell_type": "code",
   "execution_count": 5,
   "id": "eec39323",
   "metadata": {
    "ExecuteTime": {
     "end_time": "2022-06-19T17:14:21.100890Z",
     "start_time": "2022-06-19T17:14:20.798913Z"
    },
    "hidden": true
   },
   "outputs": [
    {
     "data": {
      "text/html": [
       "<div>\n",
       "<style scoped>\n",
       "    .dataframe tbody tr th:only-of-type {\n",
       "        vertical-align: middle;\n",
       "    }\n",
       "\n",
       "    .dataframe tbody tr th {\n",
       "        vertical-align: top;\n",
       "    }\n",
       "\n",
       "    .dataframe thead th {\n",
       "        text-align: right;\n",
       "    }\n",
       "</style>\n",
       "<table border=\"1\" class=\"dataframe\">\n",
       "  <thead>\n",
       "    <tr style=\"text-align: right;\">\n",
       "      <th></th>\n",
       "      <th>step</th>\n",
       "      <th>type</th>\n",
       "      <th>amount</th>\n",
       "      <th>nameOrig</th>\n",
       "      <th>oldbalanceOrg</th>\n",
       "      <th>newbalanceOrig</th>\n",
       "      <th>nameDest</th>\n",
       "      <th>oldbalanceDest</th>\n",
       "      <th>newbalanceDest</th>\n",
       "      <th>isFraud</th>\n",
       "      <th>isFlaggedFraud</th>\n",
       "    </tr>\n",
       "  </thead>\n",
       "  <tbody>\n",
       "    <tr>\n",
       "      <th>0</th>\n",
       "      <td>1</td>\n",
       "      <td>PAYMENT</td>\n",
       "      <td>9839.64</td>\n",
       "      <td>C1231006815</td>\n",
       "      <td>170136.00</td>\n",
       "      <td>160296.36</td>\n",
       "      <td>M1979787155</td>\n",
       "      <td>0.00</td>\n",
       "      <td>0.00</td>\n",
       "      <td>0</td>\n",
       "      <td>0</td>\n",
       "    </tr>\n",
       "    <tr>\n",
       "      <th>1</th>\n",
       "      <td>1</td>\n",
       "      <td>PAYMENT</td>\n",
       "      <td>1864.28</td>\n",
       "      <td>C1666544295</td>\n",
       "      <td>21249.00</td>\n",
       "      <td>19384.72</td>\n",
       "      <td>M2044282225</td>\n",
       "      <td>0.00</td>\n",
       "      <td>0.00</td>\n",
       "      <td>0</td>\n",
       "      <td>0</td>\n",
       "    </tr>\n",
       "    <tr>\n",
       "      <th>2</th>\n",
       "      <td>1</td>\n",
       "      <td>TRANSFER</td>\n",
       "      <td>181.00</td>\n",
       "      <td>C1305486145</td>\n",
       "      <td>181.00</td>\n",
       "      <td>0.00</td>\n",
       "      <td>C553264065</td>\n",
       "      <td>0.00</td>\n",
       "      <td>0.00</td>\n",
       "      <td>1</td>\n",
       "      <td>0</td>\n",
       "    </tr>\n",
       "    <tr>\n",
       "      <th>3</th>\n",
       "      <td>1</td>\n",
       "      <td>CASH_OUT</td>\n",
       "      <td>181.00</td>\n",
       "      <td>C840083671</td>\n",
       "      <td>181.00</td>\n",
       "      <td>0.00</td>\n",
       "      <td>C38997010</td>\n",
       "      <td>21182.00</td>\n",
       "      <td>0.00</td>\n",
       "      <td>1</td>\n",
       "      <td>0</td>\n",
       "    </tr>\n",
       "    <tr>\n",
       "      <th>4</th>\n",
       "      <td>1</td>\n",
       "      <td>PAYMENT</td>\n",
       "      <td>11668.14</td>\n",
       "      <td>C2048537720</td>\n",
       "      <td>41554.00</td>\n",
       "      <td>29885.86</td>\n",
       "      <td>M1230701703</td>\n",
       "      <td>0.00</td>\n",
       "      <td>0.00</td>\n",
       "      <td>0</td>\n",
       "      <td>0</td>\n",
       "    </tr>\n",
       "    <tr>\n",
       "      <th>...</th>\n",
       "      <td>...</td>\n",
       "      <td>...</td>\n",
       "      <td>...</td>\n",
       "      <td>...</td>\n",
       "      <td>...</td>\n",
       "      <td>...</td>\n",
       "      <td>...</td>\n",
       "      <td>...</td>\n",
       "      <td>...</td>\n",
       "      <td>...</td>\n",
       "      <td>...</td>\n",
       "    </tr>\n",
       "    <tr>\n",
       "      <th>101608</th>\n",
       "      <td>10</td>\n",
       "      <td>PAYMENT</td>\n",
       "      <td>7477.02</td>\n",
       "      <td>C513257306</td>\n",
       "      <td>785.00</td>\n",
       "      <td>0.00</td>\n",
       "      <td>M524833426</td>\n",
       "      <td>0.00</td>\n",
       "      <td>0.00</td>\n",
       "      <td>0</td>\n",
       "      <td>0</td>\n",
       "    </tr>\n",
       "    <tr>\n",
       "      <th>101609</th>\n",
       "      <td>10</td>\n",
       "      <td>CASH_OUT</td>\n",
       "      <td>282252.35</td>\n",
       "      <td>C210473293</td>\n",
       "      <td>220339.29</td>\n",
       "      <td>0.00</td>\n",
       "      <td>C1172042998</td>\n",
       "      <td>95156.01</td>\n",
       "      <td>91286.97</td>\n",
       "      <td>0</td>\n",
       "      <td>0</td>\n",
       "    </tr>\n",
       "    <tr>\n",
       "      <th>101610</th>\n",
       "      <td>10</td>\n",
       "      <td>PAYMENT</td>\n",
       "      <td>17289.01</td>\n",
       "      <td>C807582280</td>\n",
       "      <td>0.00</td>\n",
       "      <td>0.00</td>\n",
       "      <td>M334249577</td>\n",
       "      <td>0.00</td>\n",
       "      <td>0.00</td>\n",
       "      <td>0</td>\n",
       "      <td>0</td>\n",
       "    </tr>\n",
       "    <tr>\n",
       "      <th>101611</th>\n",
       "      <td>10</td>\n",
       "      <td>TRANSFER</td>\n",
       "      <td>1347146.45</td>\n",
       "      <td>C1315779140</td>\n",
       "      <td>1605.00</td>\n",
       "      <td>0.00</td>\n",
       "      <td>C1631408038</td>\n",
       "      <td>541639.43</td>\n",
       "      <td>2186953.43</td>\n",
       "      <td>0</td>\n",
       "      <td>0</td>\n",
       "    </tr>\n",
       "    <tr>\n",
       "      <th>101612</th>\n",
       "      <td>10</td>\n",
       "      <td>CASH_OUT</td>\n",
       "      <td>469539.21</td>\n",
       "      <td>C515691325</td>\n",
       "      <td>31133.00</td>\n",
       "      <td>0.00</td>\n",
       "      <td>C1383702768</td>\n",
       "      <td>0.00</td>\n",
       "      <td>469539.21</td>\n",
       "      <td>0</td>\n",
       "      <td>0</td>\n",
       "    </tr>\n",
       "  </tbody>\n",
       "</table>\n",
       "<p>101613 rows × 11 columns</p>\n",
       "</div>"
      ],
      "text/plain": [
       "        step      type      amount     nameOrig  oldbalanceOrg  \\\n",
       "0          1   PAYMENT     9839.64  C1231006815      170136.00   \n",
       "1          1   PAYMENT     1864.28  C1666544295       21249.00   \n",
       "2          1  TRANSFER      181.00  C1305486145         181.00   \n",
       "3          1  CASH_OUT      181.00   C840083671         181.00   \n",
       "4          1   PAYMENT    11668.14  C2048537720       41554.00   \n",
       "...      ...       ...         ...          ...            ...   \n",
       "101608    10   PAYMENT     7477.02   C513257306         785.00   \n",
       "101609    10  CASH_OUT   282252.35   C210473293      220339.29   \n",
       "101610    10   PAYMENT    17289.01   C807582280           0.00   \n",
       "101611    10  TRANSFER  1347146.45  C1315779140        1605.00   \n",
       "101612    10  CASH_OUT   469539.21   C515691325       31133.00   \n",
       "\n",
       "        newbalanceOrig     nameDest  oldbalanceDest  newbalanceDest  isFraud  \\\n",
       "0            160296.36  M1979787155            0.00            0.00        0   \n",
       "1             19384.72  M2044282225            0.00            0.00        0   \n",
       "2                 0.00   C553264065            0.00            0.00        1   \n",
       "3                 0.00    C38997010        21182.00            0.00        1   \n",
       "4             29885.86  M1230701703            0.00            0.00        0   \n",
       "...                ...          ...             ...             ...      ...   \n",
       "101608            0.00   M524833426            0.00            0.00        0   \n",
       "101609            0.00  C1172042998        95156.01        91286.97        0   \n",
       "101610            0.00   M334249577            0.00            0.00        0   \n",
       "101611            0.00  C1631408038       541639.43      2186953.43        0   \n",
       "101612            0.00  C1383702768            0.00       469539.21        0   \n",
       "\n",
       "        isFlaggedFraud  \n",
       "0                    0  \n",
       "1                    0  \n",
       "2                    0  \n",
       "3                    0  \n",
       "4                    0  \n",
       "...                ...  \n",
       "101608               0  \n",
       "101609               0  \n",
       "101610               0  \n",
       "101611               0  \n",
       "101612               0  \n",
       "\n",
       "[101613 rows x 11 columns]"
      ]
     },
     "execution_count": 5,
     "metadata": {},
     "output_type": "execute_result"
    }
   ],
   "source": [
    "dados = pd.read_csv('fraud_dataset_example.csv')\n",
    "dados"
   ]
  },
  {
   "cell_type": "code",
   "execution_count": 6,
   "id": "dcd9fb44",
   "metadata": {
    "ExecuteTime": {
     "end_time": "2022-06-19T17:14:21.112911Z",
     "start_time": "2022-06-19T17:14:21.103792Z"
    },
    "hidden": true
   },
   "outputs": [
    {
     "name": "stdout",
     "output_type": "stream",
     "text": [
      "Nosso Conjunto de Dados inicial tem 101613 linhas e 11 colunas.\n"
     ]
    }
   ],
   "source": [
    "print(f'Nosso Conjunto de Dados inicial tem {dados.shape[0]} linhas e {dados.shape[1]} colunas.')"
   ]
  },
  {
   "cell_type": "markdown",
   "id": "e28f2d15",
   "metadata": {
    "heading_collapsed": true
   },
   "source": [
    "# Renomeando as colunas"
   ]
  },
  {
   "cell_type": "code",
   "execution_count": 7,
   "id": "733d61a1",
   "metadata": {
    "ExecuteTime": {
     "end_time": "2022-06-19T17:14:21.135933Z",
     "start_time": "2022-06-19T17:14:21.122099Z"
    },
    "hidden": true
   },
   "outputs": [],
   "source": [
    "colunas = {'step':'tempo',\n",
    "    'type':'tipo',\n",
    "    'amount':'valor',\n",
    "    'nameOrig':'cliente1',\n",
    "    'oldbalanceOrg':'saldo_inicial_c1',\n",
    "    'newbalanceOrig':'novo_saldo_c1',\n",
    "    'nameDest':'cliente2',\n",
    "    'oldbalanceDest':'saldo_inicial_c2',\n",
    "    'newbalanceDest':'novo_saldo_c2',\n",
    "    'isFraud': 'fraude',\n",
    "    'isFlaggedFraud':'super_fraude'}"
   ]
  },
  {
   "cell_type": "code",
   "execution_count": 8,
   "id": "383eeaa5",
   "metadata": {
    "ExecuteTime": {
     "end_time": "2022-06-19T17:14:21.184285Z",
     "start_time": "2022-06-19T17:14:21.140532Z"
    },
    "hidden": true
   },
   "outputs": [
    {
     "data": {
      "text/html": [
       "<div>\n",
       "<style scoped>\n",
       "    .dataframe tbody tr th:only-of-type {\n",
       "        vertical-align: middle;\n",
       "    }\n",
       "\n",
       "    .dataframe tbody tr th {\n",
       "        vertical-align: top;\n",
       "    }\n",
       "\n",
       "    .dataframe thead th {\n",
       "        text-align: right;\n",
       "    }\n",
       "</style>\n",
       "<table border=\"1\" class=\"dataframe\">\n",
       "  <thead>\n",
       "    <tr style=\"text-align: right;\">\n",
       "      <th></th>\n",
       "      <th>tempo</th>\n",
       "      <th>tipo</th>\n",
       "      <th>valor</th>\n",
       "      <th>cliente1</th>\n",
       "      <th>saldo_inicial_c1</th>\n",
       "      <th>novo_saldo_c1</th>\n",
       "      <th>cliente2</th>\n",
       "      <th>saldo_inicial_c2</th>\n",
       "      <th>novo_saldo_c2</th>\n",
       "      <th>fraude</th>\n",
       "      <th>super_fraude</th>\n",
       "    </tr>\n",
       "  </thead>\n",
       "  <tbody>\n",
       "    <tr>\n",
       "      <th>0</th>\n",
       "      <td>1</td>\n",
       "      <td>PAYMENT</td>\n",
       "      <td>9839.64</td>\n",
       "      <td>C1231006815</td>\n",
       "      <td>170136.00</td>\n",
       "      <td>160296.36</td>\n",
       "      <td>M1979787155</td>\n",
       "      <td>0.00</td>\n",
       "      <td>0.00</td>\n",
       "      <td>0</td>\n",
       "      <td>0</td>\n",
       "    </tr>\n",
       "    <tr>\n",
       "      <th>1</th>\n",
       "      <td>1</td>\n",
       "      <td>PAYMENT</td>\n",
       "      <td>1864.28</td>\n",
       "      <td>C1666544295</td>\n",
       "      <td>21249.00</td>\n",
       "      <td>19384.72</td>\n",
       "      <td>M2044282225</td>\n",
       "      <td>0.00</td>\n",
       "      <td>0.00</td>\n",
       "      <td>0</td>\n",
       "      <td>0</td>\n",
       "    </tr>\n",
       "    <tr>\n",
       "      <th>2</th>\n",
       "      <td>1</td>\n",
       "      <td>TRANSFER</td>\n",
       "      <td>181.00</td>\n",
       "      <td>C1305486145</td>\n",
       "      <td>181.00</td>\n",
       "      <td>0.00</td>\n",
       "      <td>C553264065</td>\n",
       "      <td>0.00</td>\n",
       "      <td>0.00</td>\n",
       "      <td>1</td>\n",
       "      <td>0</td>\n",
       "    </tr>\n",
       "    <tr>\n",
       "      <th>3</th>\n",
       "      <td>1</td>\n",
       "      <td>CASH_OUT</td>\n",
       "      <td>181.00</td>\n",
       "      <td>C840083671</td>\n",
       "      <td>181.00</td>\n",
       "      <td>0.00</td>\n",
       "      <td>C38997010</td>\n",
       "      <td>21182.00</td>\n",
       "      <td>0.00</td>\n",
       "      <td>1</td>\n",
       "      <td>0</td>\n",
       "    </tr>\n",
       "    <tr>\n",
       "      <th>4</th>\n",
       "      <td>1</td>\n",
       "      <td>PAYMENT</td>\n",
       "      <td>11668.14</td>\n",
       "      <td>C2048537720</td>\n",
       "      <td>41554.00</td>\n",
       "      <td>29885.86</td>\n",
       "      <td>M1230701703</td>\n",
       "      <td>0.00</td>\n",
       "      <td>0.00</td>\n",
       "      <td>0</td>\n",
       "      <td>0</td>\n",
       "    </tr>\n",
       "    <tr>\n",
       "      <th>...</th>\n",
       "      <td>...</td>\n",
       "      <td>...</td>\n",
       "      <td>...</td>\n",
       "      <td>...</td>\n",
       "      <td>...</td>\n",
       "      <td>...</td>\n",
       "      <td>...</td>\n",
       "      <td>...</td>\n",
       "      <td>...</td>\n",
       "      <td>...</td>\n",
       "      <td>...</td>\n",
       "    </tr>\n",
       "    <tr>\n",
       "      <th>101608</th>\n",
       "      <td>10</td>\n",
       "      <td>PAYMENT</td>\n",
       "      <td>7477.02</td>\n",
       "      <td>C513257306</td>\n",
       "      <td>785.00</td>\n",
       "      <td>0.00</td>\n",
       "      <td>M524833426</td>\n",
       "      <td>0.00</td>\n",
       "      <td>0.00</td>\n",
       "      <td>0</td>\n",
       "      <td>0</td>\n",
       "    </tr>\n",
       "    <tr>\n",
       "      <th>101609</th>\n",
       "      <td>10</td>\n",
       "      <td>CASH_OUT</td>\n",
       "      <td>282252.35</td>\n",
       "      <td>C210473293</td>\n",
       "      <td>220339.29</td>\n",
       "      <td>0.00</td>\n",
       "      <td>C1172042998</td>\n",
       "      <td>95156.01</td>\n",
       "      <td>91286.97</td>\n",
       "      <td>0</td>\n",
       "      <td>0</td>\n",
       "    </tr>\n",
       "    <tr>\n",
       "      <th>101610</th>\n",
       "      <td>10</td>\n",
       "      <td>PAYMENT</td>\n",
       "      <td>17289.01</td>\n",
       "      <td>C807582280</td>\n",
       "      <td>0.00</td>\n",
       "      <td>0.00</td>\n",
       "      <td>M334249577</td>\n",
       "      <td>0.00</td>\n",
       "      <td>0.00</td>\n",
       "      <td>0</td>\n",
       "      <td>0</td>\n",
       "    </tr>\n",
       "    <tr>\n",
       "      <th>101611</th>\n",
       "      <td>10</td>\n",
       "      <td>TRANSFER</td>\n",
       "      <td>1347146.45</td>\n",
       "      <td>C1315779140</td>\n",
       "      <td>1605.00</td>\n",
       "      <td>0.00</td>\n",
       "      <td>C1631408038</td>\n",
       "      <td>541639.43</td>\n",
       "      <td>2186953.43</td>\n",
       "      <td>0</td>\n",
       "      <td>0</td>\n",
       "    </tr>\n",
       "    <tr>\n",
       "      <th>101612</th>\n",
       "      <td>10</td>\n",
       "      <td>CASH_OUT</td>\n",
       "      <td>469539.21</td>\n",
       "      <td>C515691325</td>\n",
       "      <td>31133.00</td>\n",
       "      <td>0.00</td>\n",
       "      <td>C1383702768</td>\n",
       "      <td>0.00</td>\n",
       "      <td>469539.21</td>\n",
       "      <td>0</td>\n",
       "      <td>0</td>\n",
       "    </tr>\n",
       "  </tbody>\n",
       "</table>\n",
       "<p>101613 rows × 11 columns</p>\n",
       "</div>"
      ],
      "text/plain": [
       "        tempo      tipo       valor     cliente1  saldo_inicial_c1  \\\n",
       "0           1   PAYMENT     9839.64  C1231006815         170136.00   \n",
       "1           1   PAYMENT     1864.28  C1666544295          21249.00   \n",
       "2           1  TRANSFER      181.00  C1305486145            181.00   \n",
       "3           1  CASH_OUT      181.00   C840083671            181.00   \n",
       "4           1   PAYMENT    11668.14  C2048537720          41554.00   \n",
       "...       ...       ...         ...          ...               ...   \n",
       "101608     10   PAYMENT     7477.02   C513257306            785.00   \n",
       "101609     10  CASH_OUT   282252.35   C210473293         220339.29   \n",
       "101610     10   PAYMENT    17289.01   C807582280              0.00   \n",
       "101611     10  TRANSFER  1347146.45  C1315779140           1605.00   \n",
       "101612     10  CASH_OUT   469539.21   C515691325          31133.00   \n",
       "\n",
       "        novo_saldo_c1     cliente2  saldo_inicial_c2  novo_saldo_c2  fraude  \\\n",
       "0           160296.36  M1979787155              0.00           0.00       0   \n",
       "1            19384.72  M2044282225              0.00           0.00       0   \n",
       "2                0.00   C553264065              0.00           0.00       1   \n",
       "3                0.00    C38997010          21182.00           0.00       1   \n",
       "4            29885.86  M1230701703              0.00           0.00       0   \n",
       "...               ...          ...               ...            ...     ...   \n",
       "101608           0.00   M524833426              0.00           0.00       0   \n",
       "101609           0.00  C1172042998          95156.01       91286.97       0   \n",
       "101610           0.00   M334249577              0.00           0.00       0   \n",
       "101611           0.00  C1631408038         541639.43     2186953.43       0   \n",
       "101612           0.00  C1383702768              0.00      469539.21       0   \n",
       "\n",
       "        super_fraude  \n",
       "0                  0  \n",
       "1                  0  \n",
       "2                  0  \n",
       "3                  0  \n",
       "4                  0  \n",
       "...              ...  \n",
       "101608             0  \n",
       "101609             0  \n",
       "101610             0  \n",
       "101611             0  \n",
       "101612             0  \n",
       "\n",
       "[101613 rows x 11 columns]"
      ]
     },
     "execution_count": 8,
     "metadata": {},
     "output_type": "execute_result"
    }
   ],
   "source": [
    "dados = dados.rename(columns=colunas)\n",
    "dados"
   ]
  },
  {
   "cell_type": "markdown",
   "id": "8918638c",
   "metadata": {
    "heading_collapsed": true
   },
   "source": [
    "# Informações do DataFrame"
   ]
  },
  {
   "cell_type": "code",
   "execution_count": 9,
   "id": "4a2b9bde",
   "metadata": {
    "ExecuteTime": {
     "end_time": "2022-06-19T17:14:21.231073Z",
     "start_time": "2022-06-19T17:14:21.187906Z"
    },
    "hidden": true
   },
   "outputs": [
    {
     "name": "stdout",
     "output_type": "stream",
     "text": [
      "<class 'pandas.core.frame.DataFrame'>\n",
      "RangeIndex: 101613 entries, 0 to 101612\n",
      "Data columns (total 11 columns):\n",
      " #   Column            Non-Null Count   Dtype  \n",
      "---  ------            --------------   -----  \n",
      " 0   tempo             101613 non-null  int64  \n",
      " 1   tipo              101613 non-null  object \n",
      " 2   valor             101613 non-null  float64\n",
      " 3   cliente1          101613 non-null  object \n",
      " 4   saldo_inicial_c1  101613 non-null  float64\n",
      " 5   novo_saldo_c1     101613 non-null  float64\n",
      " 6   cliente2          101613 non-null  object \n",
      " 7   saldo_inicial_c2  101613 non-null  float64\n",
      " 8   novo_saldo_c2     101613 non-null  float64\n",
      " 9   fraude            101613 non-null  int64  \n",
      " 10  super_fraude      101613 non-null  int64  \n",
      "dtypes: float64(5), int64(3), object(3)\n",
      "memory usage: 8.5+ MB\n"
     ]
    }
   ],
   "source": [
    "dados.info()"
   ]
  },
  {
   "cell_type": "markdown",
   "id": "2f539375",
   "metadata": {
    "hidden": true
   },
   "source": [
    "O DataFrame consta com **11 variáveis**."
   ]
  },
  {
   "cell_type": "code",
   "execution_count": 10,
   "id": "22d37550",
   "metadata": {
    "ExecuteTime": {
     "end_time": "2022-06-19T17:14:21.265223Z",
     "start_time": "2022-06-19T17:14:21.234607Z"
    },
    "hidden": true
   },
   "outputs": [
    {
     "data": {
      "text/plain": [
       "False"
      ]
     },
     "execution_count": 10,
     "metadata": {},
     "output_type": "execute_result"
    }
   ],
   "source": [
    "dados.isnull().values.any()"
   ]
  },
  {
   "cell_type": "markdown",
   "id": "b36b5b80",
   "metadata": {
    "hidden": true
   },
   "source": [
    "Não foi verificado **nenhum dado nulo**."
   ]
  },
  {
   "cell_type": "code",
   "execution_count": 11,
   "id": "6e4353f5",
   "metadata": {
    "ExecuteTime": {
     "end_time": "2022-06-19T17:14:21.347524Z",
     "start_time": "2022-06-19T17:14:21.273674Z"
    },
    "hidden": true
   },
   "outputs": [
    {
     "data": {
      "text/html": [
       "<div>\n",
       "<style scoped>\n",
       "    .dataframe tbody tr th:only-of-type {\n",
       "        vertical-align: middle;\n",
       "    }\n",
       "\n",
       "    .dataframe tbody tr th {\n",
       "        vertical-align: top;\n",
       "    }\n",
       "\n",
       "    .dataframe thead th {\n",
       "        text-align: right;\n",
       "    }\n",
       "</style>\n",
       "<table border=\"1\" class=\"dataframe\">\n",
       "  <thead>\n",
       "    <tr style=\"text-align: right;\">\n",
       "      <th></th>\n",
       "      <th>count</th>\n",
       "      <th>mean</th>\n",
       "      <th>std</th>\n",
       "      <th>min</th>\n",
       "      <th>25%</th>\n",
       "      <th>50%</th>\n",
       "      <th>75%</th>\n",
       "      <th>max</th>\n",
       "    </tr>\n",
       "  </thead>\n",
       "  <tbody>\n",
       "    <tr>\n",
       "      <th>tempo</th>\n",
       "      <td>101613.00</td>\n",
       "      <td>8.52</td>\n",
       "      <td>1.82</td>\n",
       "      <td>1.00</td>\n",
       "      <td>8.00</td>\n",
       "      <td>9.00</td>\n",
       "      <td>10.00</td>\n",
       "      <td>10.00</td>\n",
       "    </tr>\n",
       "    <tr>\n",
       "      <th>valor</th>\n",
       "      <td>101613.00</td>\n",
       "      <td>174090.07</td>\n",
       "      <td>345019.90</td>\n",
       "      <td>0.32</td>\n",
       "      <td>10016.59</td>\n",
       "      <td>53385.41</td>\n",
       "      <td>212498.40</td>\n",
       "      <td>10000000.00</td>\n",
       "    </tr>\n",
       "    <tr>\n",
       "      <th>saldo_inicial_c1</th>\n",
       "      <td>101613.00</td>\n",
       "      <td>907175.26</td>\n",
       "      <td>2829575.28</td>\n",
       "      <td>0.00</td>\n",
       "      <td>0.00</td>\n",
       "      <td>20190.47</td>\n",
       "      <td>194715.00</td>\n",
       "      <td>38939424.03</td>\n",
       "    </tr>\n",
       "    <tr>\n",
       "      <th>novo_saldo_c1</th>\n",
       "      <td>101613.00</td>\n",
       "      <td>923499.25</td>\n",
       "      <td>2867318.71</td>\n",
       "      <td>0.00</td>\n",
       "      <td>0.00</td>\n",
       "      <td>0.00</td>\n",
       "      <td>219217.76</td>\n",
       "      <td>38946233.02</td>\n",
       "    </tr>\n",
       "    <tr>\n",
       "      <th>saldo_inicial_c2</th>\n",
       "      <td>101613.00</td>\n",
       "      <td>881042.80</td>\n",
       "      <td>2399949.06</td>\n",
       "      <td>0.00</td>\n",
       "      <td>0.00</td>\n",
       "      <td>21058.00</td>\n",
       "      <td>591921.70</td>\n",
       "      <td>34008736.98</td>\n",
       "    </tr>\n",
       "    <tr>\n",
       "      <th>novo_saldo_c2</th>\n",
       "      <td>101613.00</td>\n",
       "      <td>1183998.10</td>\n",
       "      <td>2797761.08</td>\n",
       "      <td>0.00</td>\n",
       "      <td>0.00</td>\n",
       "      <td>51783.43</td>\n",
       "      <td>1063121.64</td>\n",
       "      <td>38946233.02</td>\n",
       "    </tr>\n",
       "    <tr>\n",
       "      <th>fraude</th>\n",
       "      <td>101613.00</td>\n",
       "      <td>0.00</td>\n",
       "      <td>0.03</td>\n",
       "      <td>0.00</td>\n",
       "      <td>0.00</td>\n",
       "      <td>0.00</td>\n",
       "      <td>0.00</td>\n",
       "      <td>1.00</td>\n",
       "    </tr>\n",
       "    <tr>\n",
       "      <th>super_fraude</th>\n",
       "      <td>101613.00</td>\n",
       "      <td>0.00</td>\n",
       "      <td>0.00</td>\n",
       "      <td>0.00</td>\n",
       "      <td>0.00</td>\n",
       "      <td>0.00</td>\n",
       "      <td>0.00</td>\n",
       "      <td>0.00</td>\n",
       "    </tr>\n",
       "  </tbody>\n",
       "</table>\n",
       "</div>"
      ],
      "text/plain": [
       "                     count       mean        std  min      25%      50%  \\\n",
       "tempo            101613.00       8.52       1.82 1.00     8.00     9.00   \n",
       "valor            101613.00  174090.07  345019.90 0.32 10016.59 53385.41   \n",
       "saldo_inicial_c1 101613.00  907175.26 2829575.28 0.00     0.00 20190.47   \n",
       "novo_saldo_c1    101613.00  923499.25 2867318.71 0.00     0.00     0.00   \n",
       "saldo_inicial_c2 101613.00  881042.80 2399949.06 0.00     0.00 21058.00   \n",
       "novo_saldo_c2    101613.00 1183998.10 2797761.08 0.00     0.00 51783.43   \n",
       "fraude           101613.00       0.00       0.03 0.00     0.00     0.00   \n",
       "super_fraude     101613.00       0.00       0.00 0.00     0.00     0.00   \n",
       "\n",
       "                        75%         max  \n",
       "tempo                 10.00       10.00  \n",
       "valor             212498.40 10000000.00  \n",
       "saldo_inicial_c1  194715.00 38939424.03  \n",
       "novo_saldo_c1     219217.76 38946233.02  \n",
       "saldo_inicial_c2  591921.70 34008736.98  \n",
       "novo_saldo_c2    1063121.64 38946233.02  \n",
       "fraude                 0.00        1.00  \n",
       "super_fraude           0.00        0.00  "
      ]
     },
     "execution_count": 11,
     "metadata": {},
     "output_type": "execute_result"
    }
   ],
   "source": [
    "pd.set_option('display.float_format', lambda x: '%.2f' %x)\n",
    "dados.describe().T"
   ]
  },
  {
   "cell_type": "code",
   "execution_count": 12,
   "id": "d68001df",
   "metadata": {
    "ExecuteTime": {
     "end_time": "2022-06-19T17:14:21.544087Z",
     "start_time": "2022-06-19T17:14:21.350974Z"
    },
    "hidden": true
   },
   "outputs": [
    {
     "data": {
      "text/html": [
       "<div>\n",
       "<style scoped>\n",
       "    .dataframe tbody tr th:only-of-type {\n",
       "        vertical-align: middle;\n",
       "    }\n",
       "\n",
       "    .dataframe tbody tr th {\n",
       "        vertical-align: top;\n",
       "    }\n",
       "\n",
       "    .dataframe thead th {\n",
       "        text-align: right;\n",
       "    }\n",
       "</style>\n",
       "<table border=\"1\" class=\"dataframe\">\n",
       "  <thead>\n",
       "    <tr style=\"text-align: right;\">\n",
       "      <th></th>\n",
       "      <th>tipo</th>\n",
       "      <th>cliente1</th>\n",
       "      <th>cliente2</th>\n",
       "    </tr>\n",
       "  </thead>\n",
       "  <tbody>\n",
       "    <tr>\n",
       "      <th>count</th>\n",
       "      <td>101613</td>\n",
       "      <td>101613</td>\n",
       "      <td>101613</td>\n",
       "    </tr>\n",
       "    <tr>\n",
       "      <th>unique</th>\n",
       "      <td>5</td>\n",
       "      <td>101613</td>\n",
       "      <td>52280</td>\n",
       "    </tr>\n",
       "    <tr>\n",
       "      <th>top</th>\n",
       "      <td>PAYMENT</td>\n",
       "      <td>C1231006815</td>\n",
       "      <td>C985934102</td>\n",
       "    </tr>\n",
       "    <tr>\n",
       "      <th>freq</th>\n",
       "      <td>40062</td>\n",
       "      <td>1</td>\n",
       "      <td>78</td>\n",
       "    </tr>\n",
       "  </tbody>\n",
       "</table>\n",
       "</div>"
      ],
      "text/plain": [
       "           tipo     cliente1    cliente2\n",
       "count    101613       101613      101613\n",
       "unique        5       101613       52280\n",
       "top     PAYMENT  C1231006815  C985934102\n",
       "freq      40062            1          78"
      ]
     },
     "execution_count": 12,
     "metadata": {},
     "output_type": "execute_result"
    }
   ],
   "source": [
    "dados.describe(include=[object])"
   ]
  },
  {
   "cell_type": "markdown",
   "id": "adf2c1a7",
   "metadata": {
    "hidden": true
   },
   "source": [
    "Para começar a análise, vamos utilizar o método **.describe()** para entender alguns métodos estatísticos que temos dentro da base de dados. O método describe() fornece as informações sobre:\n",
    "\n",
    "- Para variáveis **quantitativas**:\n",
    "\n",
    "   - **count** - Conta a quantidade de número de valores não vazios. Com esses valores podemos entender melhor o tamanho da amostra.\n",
    "\n",
    "   - **mean** - O valor médio, em média aritmética. \n",
    "\n",
    "   - **std** - O desvio padrão. É a medida de como os dados se dispersam em relação à média, ou seja, o quanto eles estão espalhados.\n",
    "\n",
    "   - **min e max** - Valores que auxiliam a identificar a amplitude da amostra, entre o valor mínimo e máximo.\n",
    "\n",
    "   - **quartis** - Valores que nos mostram de que forma os dados foram distribuídos, por exemplo em 50% é a mediana e metade dos valores são inferiores a X valor, a outra metade é superior àquele valor.\n",
    "\n",
    "\n",
    "- Para variáveis **categóricas**:\n",
    "\n",
    "    - **unique** é a quantidade de valores únicos\n",
    "\n",
    "    - **top** é o valor mais comum\n",
    "\n",
    "    - **freq** é a frequência do valor mais comum"
   ]
  },
  {
   "cell_type": "markdown",
   "id": "de0ad736",
   "metadata": {
    "heading_collapsed": true
   },
   "source": [
    "# Análise exploratória"
   ]
  },
  {
   "cell_type": "markdown",
   "id": "d87aaea8",
   "metadata": {
    "heading_collapsed": true,
    "hidden": true
   },
   "source": [
    "## Verificando quantidade de fraudes e super fraudes"
   ]
  },
  {
   "cell_type": "code",
   "execution_count": 13,
   "id": "8968c177",
   "metadata": {
    "ExecuteTime": {
     "end_time": "2022-06-19T17:14:21.562699Z",
     "start_time": "2022-06-19T17:14:21.552213Z"
    },
    "hidden": true
   },
   "outputs": [
    {
     "data": {
      "text/plain": [
       "fraude\n",
       "0    101497\n",
       "1       116\n",
       "Name: tempo, dtype: int64"
      ]
     },
     "execution_count": 13,
     "metadata": {},
     "output_type": "execute_result"
    }
   ],
   "source": [
    "dados.groupby('fraude').tempo.count()"
   ]
  },
  {
   "cell_type": "code",
   "execution_count": 14,
   "id": "9fe3fedf",
   "metadata": {
    "ExecuteTime": {
     "end_time": "2022-06-19T17:14:21.753684Z",
     "start_time": "2022-06-19T17:14:21.568331Z"
    },
    "hidden": true
   },
   "outputs": [
    {
     "data": {
      "image/png": "[encoded data removed]",
      "text/plain": [
       "<Figure size 432x288 with 1 Axes>"
      ]
     },
     "metadata": {},
     "output_type": "display_data"
    }
   ],
   "source": [
    "dados['fraude'].value_counts().plot(kind='pie', autopct='%.2f%%')\n",
    "plt.axis('equal')\n",
    "plt.show()"
   ]
  },
  {
   "cell_type": "code",
   "execution_count": 15,
   "id": "edf1fd00",
   "metadata": {
    "ExecuteTime": {
     "end_time": "2022-06-19T17:14:21.771046Z",
     "start_time": "2022-06-19T17:14:21.757594Z"
    },
    "hidden": true
   },
   "outputs": [
    {
     "data": {
      "text/plain": [
       "super_fraude\n",
       "0    101613\n",
       "Name: tempo, dtype: int64"
      ]
     },
     "execution_count": 15,
     "metadata": {},
     "output_type": "execute_result"
    }
   ],
   "source": [
    "dados.groupby('super_fraude').tempo.count()"
   ]
  },
  {
   "cell_type": "markdown",
   "id": "d93f6cec",
   "metadata": {
    "hidden": true
   },
   "source": [
    "Conseguimos verificar no nosso dataset **116 fraudes** (0,11% do total de transações) e **nenhuma super-fraude**."
   ]
  },
  {
   "cell_type": "markdown",
   "id": "fc5bc01b",
   "metadata": {
    "ExecuteTime": {
     "end_time": "2022-06-17T18:44:10.894228Z",
     "start_time": "2022-06-17T18:44:10.872269Z"
    },
    "heading_collapsed": true,
    "hidden": true
   },
   "source": [
    "## Tipos de transações financeiras totais realizadas"
   ]
  },
  {
   "cell_type": "code",
   "execution_count": 16,
   "id": "860ab58d",
   "metadata": {
    "ExecuteTime": {
     "end_time": "2022-06-19T17:14:22.109727Z",
     "start_time": "2022-06-19T17:14:21.774648Z"
    },
    "hidden": true
   },
   "outputs": [
    {
     "data": {
      "image/png": "[encoded data removed]",
      "text/plain": [
       "<Figure size 720x432 with 1 Axes>"
      ]
     },
     "metadata": {},
     "output_type": "display_data"
    }
   ],
   "source": [
    "fig = plt.figure(figsize=(10,6))\n",
    "sns.histplot(dados['tipo'], kde=False)\n",
    "plt.title('Distribuição dos tipos de transações')\n",
    "plt.show()"
   ]
  },
  {
   "cell_type": "markdown",
   "id": "1aa646e2",
   "metadata": {
    "heading_collapsed": true,
    "hidden": true
   },
   "source": [
    "## Tipos de transações financeiras realizadas - Fraude"
   ]
  },
  {
   "cell_type": "code",
   "execution_count": 17,
   "id": "6465756a",
   "metadata": {
    "ExecuteTime": {
     "end_time": "2022-06-19T17:14:22.143734Z",
     "start_time": "2022-06-19T17:14:22.114168Z"
    },
    "hidden": true
   },
   "outputs": [
    {
     "data": {
      "text/html": [
       "<div>\n",
       "<style scoped>\n",
       "    .dataframe tbody tr th:only-of-type {\n",
       "        vertical-align: middle;\n",
       "    }\n",
       "\n",
       "    .dataframe tbody tr th {\n",
       "        vertical-align: top;\n",
       "    }\n",
       "\n",
       "    .dataframe thead th {\n",
       "        text-align: right;\n",
       "    }\n",
       "</style>\n",
       "<table border=\"1\" class=\"dataframe\">\n",
       "  <thead>\n",
       "    <tr style=\"text-align: right;\">\n",
       "      <th></th>\n",
       "      <th>tempo</th>\n",
       "      <th>tipo</th>\n",
       "      <th>valor</th>\n",
       "      <th>cliente1</th>\n",
       "      <th>saldo_inicial_c1</th>\n",
       "      <th>novo_saldo_c1</th>\n",
       "      <th>cliente2</th>\n",
       "      <th>saldo_inicial_c2</th>\n",
       "      <th>novo_saldo_c2</th>\n",
       "      <th>fraude</th>\n",
       "      <th>super_fraude</th>\n",
       "    </tr>\n",
       "  </thead>\n",
       "  <tbody>\n",
       "    <tr>\n",
       "      <th>2</th>\n",
       "      <td>1</td>\n",
       "      <td>TRANSFER</td>\n",
       "      <td>181.00</td>\n",
       "      <td>C1305486145</td>\n",
       "      <td>181.00</td>\n",
       "      <td>0.00</td>\n",
       "      <td>C553264065</td>\n",
       "      <td>0.00</td>\n",
       "      <td>0.00</td>\n",
       "      <td>1</td>\n",
       "      <td>0</td>\n",
       "    </tr>\n",
       "    <tr>\n",
       "      <th>3</th>\n",
       "      <td>1</td>\n",
       "      <td>CASH_OUT</td>\n",
       "      <td>181.00</td>\n",
       "      <td>C840083671</td>\n",
       "      <td>181.00</td>\n",
       "      <td>0.00</td>\n",
       "      <td>C38997010</td>\n",
       "      <td>21182.00</td>\n",
       "      <td>0.00</td>\n",
       "      <td>1</td>\n",
       "      <td>0</td>\n",
       "    </tr>\n",
       "    <tr>\n",
       "      <th>251</th>\n",
       "      <td>1</td>\n",
       "      <td>TRANSFER</td>\n",
       "      <td>2806.00</td>\n",
       "      <td>C1420196421</td>\n",
       "      <td>2806.00</td>\n",
       "      <td>0.00</td>\n",
       "      <td>C972765878</td>\n",
       "      <td>0.00</td>\n",
       "      <td>0.00</td>\n",
       "      <td>1</td>\n",
       "      <td>0</td>\n",
       "    </tr>\n",
       "    <tr>\n",
       "      <th>252</th>\n",
       "      <td>1</td>\n",
       "      <td>CASH_OUT</td>\n",
       "      <td>2806.00</td>\n",
       "      <td>C2101527076</td>\n",
       "      <td>2806.00</td>\n",
       "      <td>0.00</td>\n",
       "      <td>C1007251739</td>\n",
       "      <td>26202.00</td>\n",
       "      <td>0.00</td>\n",
       "      <td>1</td>\n",
       "      <td>0</td>\n",
       "    </tr>\n",
       "    <tr>\n",
       "      <th>680</th>\n",
       "      <td>1</td>\n",
       "      <td>TRANSFER</td>\n",
       "      <td>20128.00</td>\n",
       "      <td>C137533655</td>\n",
       "      <td>20128.00</td>\n",
       "      <td>0.00</td>\n",
       "      <td>C1848415041</td>\n",
       "      <td>0.00</td>\n",
       "      <td>0.00</td>\n",
       "      <td>1</td>\n",
       "      <td>0</td>\n",
       "    </tr>\n",
       "    <tr>\n",
       "      <th>...</th>\n",
       "      <td>...</td>\n",
       "      <td>...</td>\n",
       "      <td>...</td>\n",
       "      <td>...</td>\n",
       "      <td>...</td>\n",
       "      <td>...</td>\n",
       "      <td>...</td>\n",
       "      <td>...</td>\n",
       "      <td>...</td>\n",
       "      <td>...</td>\n",
       "      <td>...</td>\n",
       "    </tr>\n",
       "    <tr>\n",
       "      <th>77745</th>\n",
       "      <td>10</td>\n",
       "      <td>CASH_OUT</td>\n",
       "      <td>277970.88</td>\n",
       "      <td>C489647033</td>\n",
       "      <td>0.00</td>\n",
       "      <td>0.00</td>\n",
       "      <td>C571514738</td>\n",
       "      <td>0.00</td>\n",
       "      <td>277970.88</td>\n",
       "      <td>1</td>\n",
       "      <td>0</td>\n",
       "    </tr>\n",
       "    <tr>\n",
       "      <th>90070</th>\n",
       "      <td>10</td>\n",
       "      <td>TRANSFER</td>\n",
       "      <td>93810.76</td>\n",
       "      <td>C481501970</td>\n",
       "      <td>93810.76</td>\n",
       "      <td>0.00</td>\n",
       "      <td>C1262577882</td>\n",
       "      <td>0.00</td>\n",
       "      <td>0.00</td>\n",
       "      <td>1</td>\n",
       "      <td>0</td>\n",
       "    </tr>\n",
       "    <tr>\n",
       "      <th>90071</th>\n",
       "      <td>10</td>\n",
       "      <td>CASH_OUT</td>\n",
       "      <td>93810.76</td>\n",
       "      <td>C1190429229</td>\n",
       "      <td>93810.76</td>\n",
       "      <td>0.00</td>\n",
       "      <td>C2104652067</td>\n",
       "      <td>4096048.05</td>\n",
       "      <td>4189858.81</td>\n",
       "      <td>1</td>\n",
       "      <td>0</td>\n",
       "    </tr>\n",
       "    <tr>\n",
       "      <th>99371</th>\n",
       "      <td>10</td>\n",
       "      <td>TRANSFER</td>\n",
       "      <td>503405.88</td>\n",
       "      <td>C1446009472</td>\n",
       "      <td>503405.88</td>\n",
       "      <td>0.00</td>\n",
       "      <td>C2010733400</td>\n",
       "      <td>0.00</td>\n",
       "      <td>0.00</td>\n",
       "      <td>1</td>\n",
       "      <td>0</td>\n",
       "    </tr>\n",
       "    <tr>\n",
       "      <th>99372</th>\n",
       "      <td>10</td>\n",
       "      <td>CASH_OUT</td>\n",
       "      <td>503405.88</td>\n",
       "      <td>C140359285</td>\n",
       "      <td>503405.88</td>\n",
       "      <td>0.00</td>\n",
       "      <td>C2020337583</td>\n",
       "      <td>29669.00</td>\n",
       "      <td>533074.88</td>\n",
       "      <td>1</td>\n",
       "      <td>0</td>\n",
       "    </tr>\n",
       "  </tbody>\n",
       "</table>\n",
       "<p>116 rows × 11 columns</p>\n",
       "</div>"
      ],
      "text/plain": [
       "       tempo      tipo     valor     cliente1  saldo_inicial_c1  \\\n",
       "2          1  TRANSFER    181.00  C1305486145            181.00   \n",
       "3          1  CASH_OUT    181.00   C840083671            181.00   \n",
       "251        1  TRANSFER   2806.00  C1420196421           2806.00   \n",
       "252        1  CASH_OUT   2806.00  C2101527076           2806.00   \n",
       "680        1  TRANSFER  20128.00   C137533655          20128.00   \n",
       "...      ...       ...       ...          ...               ...   \n",
       "77745     10  CASH_OUT 277970.88   C489647033              0.00   \n",
       "90070     10  TRANSFER  93810.76   C481501970          93810.76   \n",
       "90071     10  CASH_OUT  93810.76  C1190429229          93810.76   \n",
       "99371     10  TRANSFER 503405.88  C1446009472         503405.88   \n",
       "99372     10  CASH_OUT 503405.88   C140359285         503405.88   \n",
       "\n",
       "       novo_saldo_c1     cliente2  saldo_inicial_c2  novo_saldo_c2  fraude  \\\n",
       "2               0.00   C553264065              0.00           0.00       1   \n",
       "3               0.00    C38997010          21182.00           0.00       1   \n",
       "251             0.00   C972765878              0.00           0.00       1   \n",
       "252             0.00  C1007251739          26202.00           0.00       1   \n",
       "680             0.00  C1848415041              0.00           0.00       1   \n",
       "...              ...          ...               ...            ...     ...   \n",
       "77745           0.00   C571514738              0.00      277970.88       1   \n",
       "90070           0.00  C1262577882              0.00           0.00       1   \n",
       "90071           0.00  C2104652067        4096048.05     4189858.81       1   \n",
       "99371           0.00  C2010733400              0.00           0.00       1   \n",
       "99372           0.00  C2020337583          29669.00      533074.88       1   \n",
       "\n",
       "       super_fraude  \n",
       "2                 0  \n",
       "3                 0  \n",
       "251               0  \n",
       "252               0  \n",
       "680               0  \n",
       "...             ...  \n",
       "77745             0  \n",
       "90070             0  \n",
       "90071             0  \n",
       "99371             0  \n",
       "99372             0  \n",
       "\n",
       "[116 rows x 11 columns]"
      ]
     },
     "execution_count": 17,
     "metadata": {},
     "output_type": "execute_result"
    }
   ],
   "source": [
    "dados_fraude = dados['fraude'] == 1\n",
    "dados_fraude = dados[dados_fraude]\n",
    "dados_fraude"
   ]
  },
  {
   "cell_type": "code",
   "execution_count": 18,
   "id": "caabc639",
   "metadata": {
    "ExecuteTime": {
     "end_time": "2022-06-19T17:14:22.191308Z",
     "start_time": "2022-06-19T17:14:22.148858Z"
    },
    "hidden": true
   },
   "outputs": [
    {
     "data": {
      "text/html": [
       "<div>\n",
       "<style scoped>\n",
       "    .dataframe tbody tr th:only-of-type {\n",
       "        vertical-align: middle;\n",
       "    }\n",
       "\n",
       "    .dataframe tbody tr th {\n",
       "        vertical-align: top;\n",
       "    }\n",
       "\n",
       "    .dataframe thead th {\n",
       "        text-align: right;\n",
       "    }\n",
       "</style>\n",
       "<table border=\"1\" class=\"dataframe\">\n",
       "  <thead>\n",
       "    <tr style=\"text-align: right;\">\n",
       "      <th></th>\n",
       "      <th>count</th>\n",
       "      <th>mean</th>\n",
       "      <th>std</th>\n",
       "      <th>min</th>\n",
       "      <th>25%</th>\n",
       "      <th>50%</th>\n",
       "      <th>75%</th>\n",
       "      <th>max</th>\n",
       "    </tr>\n",
       "  </thead>\n",
       "  <tbody>\n",
       "    <tr>\n",
       "      <th>tempo</th>\n",
       "      <td>116.00</td>\n",
       "      <td>5.75</td>\n",
       "      <td>2.87</td>\n",
       "      <td>1.00</td>\n",
       "      <td>4.00</td>\n",
       "      <td>6.00</td>\n",
       "      <td>8.00</td>\n",
       "      <td>10.00</td>\n",
       "    </tr>\n",
       "    <tr>\n",
       "      <th>valor</th>\n",
       "      <td>116.00</td>\n",
       "      <td>541578.42</td>\n",
       "      <td>1535066.59</td>\n",
       "      <td>164.00</td>\n",
       "      <td>17246.00</td>\n",
       "      <td>39077.82</td>\n",
       "      <td>296154.59</td>\n",
       "      <td>10000000.00</td>\n",
       "    </tr>\n",
       "    <tr>\n",
       "      <th>saldo_inicial_c1</th>\n",
       "      <td>116.00</td>\n",
       "      <td>552710.14</td>\n",
       "      <td>1710291.31</td>\n",
       "      <td>0.00</td>\n",
       "      <td>13706.33</td>\n",
       "      <td>30521.02</td>\n",
       "      <td>248659.64</td>\n",
       "      <td>12930418.44</td>\n",
       "    </tr>\n",
       "    <tr>\n",
       "      <th>novo_saldo_c1</th>\n",
       "      <td>116.00</td>\n",
       "      <td>29080.48</td>\n",
       "      <td>274818.99</td>\n",
       "      <td>0.00</td>\n",
       "      <td>0.00</td>\n",
       "      <td>0.00</td>\n",
       "      <td>0.00</td>\n",
       "      <td>2930418.44</td>\n",
       "    </tr>\n",
       "    <tr>\n",
       "      <th>saldo_inicial_c2</th>\n",
       "      <td>116.00</td>\n",
       "      <td>227348.22</td>\n",
       "      <td>1314005.99</td>\n",
       "      <td>0.00</td>\n",
       "      <td>0.00</td>\n",
       "      <td>0.00</td>\n",
       "      <td>11226.75</td>\n",
       "      <td>13010502.78</td>\n",
       "    </tr>\n",
       "    <tr>\n",
       "      <th>novo_saldo_c2</th>\n",
       "      <td>116.00</td>\n",
       "      <td>658211.23</td>\n",
       "      <td>2063281.64</td>\n",
       "      <td>0.00</td>\n",
       "      <td>0.00</td>\n",
       "      <td>2277.96</td>\n",
       "      <td>185718.64</td>\n",
       "      <td>13071229.35</td>\n",
       "    </tr>\n",
       "    <tr>\n",
       "      <th>fraude</th>\n",
       "      <td>116.00</td>\n",
       "      <td>1.00</td>\n",
       "      <td>0.00</td>\n",
       "      <td>1.00</td>\n",
       "      <td>1.00</td>\n",
       "      <td>1.00</td>\n",
       "      <td>1.00</td>\n",
       "      <td>1.00</td>\n",
       "    </tr>\n",
       "    <tr>\n",
       "      <th>super_fraude</th>\n",
       "      <td>116.00</td>\n",
       "      <td>0.00</td>\n",
       "      <td>0.00</td>\n",
       "      <td>0.00</td>\n",
       "      <td>0.00</td>\n",
       "      <td>0.00</td>\n",
       "      <td>0.00</td>\n",
       "      <td>0.00</td>\n",
       "    </tr>\n",
       "  </tbody>\n",
       "</table>\n",
       "</div>"
      ],
      "text/plain": [
       "                  count      mean        std    min      25%      50%  \\\n",
       "tempo            116.00      5.75       2.87   1.00     4.00     6.00   \n",
       "valor            116.00 541578.42 1535066.59 164.00 17246.00 39077.82   \n",
       "saldo_inicial_c1 116.00 552710.14 1710291.31   0.00 13706.33 30521.02   \n",
       "novo_saldo_c1    116.00  29080.48  274818.99   0.00     0.00     0.00   \n",
       "saldo_inicial_c2 116.00 227348.22 1314005.99   0.00     0.00     0.00   \n",
       "novo_saldo_c2    116.00 658211.23 2063281.64   0.00     0.00  2277.96   \n",
       "fraude           116.00      1.00       0.00   1.00     1.00     1.00   \n",
       "super_fraude     116.00      0.00       0.00   0.00     0.00     0.00   \n",
       "\n",
       "                       75%         max  \n",
       "tempo                 8.00       10.00  \n",
       "valor            296154.59 10000000.00  \n",
       "saldo_inicial_c1 248659.64 12930418.44  \n",
       "novo_saldo_c1         0.00  2930418.44  \n",
       "saldo_inicial_c2  11226.75 13010502.78  \n",
       "novo_saldo_c2    185718.64 13071229.35  \n",
       "fraude                1.00        1.00  \n",
       "super_fraude          0.00        0.00  "
      ]
     },
     "execution_count": 18,
     "metadata": {},
     "output_type": "execute_result"
    }
   ],
   "source": [
    "dados_fraude.describe().T"
   ]
  },
  {
   "cell_type": "code",
   "execution_count": 19,
   "id": "c7589cb8",
   "metadata": {
    "ExecuteTime": {
     "end_time": "2022-06-19T17:14:22.209172Z",
     "start_time": "2022-06-19T17:14:22.201567Z"
    },
    "hidden": true
   },
   "outputs": [
    {
     "data": {
      "text/plain": [
       "tipo\n",
       "CASH_OUT    59\n",
       "TRANSFER    57\n",
       "Name: tipo, dtype: int64"
      ]
     },
     "execution_count": 19,
     "metadata": {},
     "output_type": "execute_result"
    }
   ],
   "source": [
    "df1 = dados_fraude.groupby('tipo').tipo.count()\n",
    "df1"
   ]
  },
  {
   "cell_type": "code",
   "execution_count": 20,
   "id": "f81c9a59",
   "metadata": {
    "ExecuteTime": {
     "end_time": "2022-06-19T17:14:22.236859Z",
     "start_time": "2022-06-19T17:14:22.221287Z"
    },
    "hidden": true
   },
   "outputs": [
    {
     "data": {
      "text/html": [
       "<div>\n",
       "<style scoped>\n",
       "    .dataframe tbody tr th:only-of-type {\n",
       "        vertical-align: middle;\n",
       "    }\n",
       "\n",
       "    .dataframe tbody tr th {\n",
       "        vertical-align: top;\n",
       "    }\n",
       "\n",
       "    .dataframe thead th {\n",
       "        text-align: right;\n",
       "    }\n",
       "</style>\n",
       "<table border=\"1\" class=\"dataframe\">\n",
       "  <thead>\n",
       "    <tr style=\"text-align: right;\">\n",
       "      <th>tipo</th>\n",
       "      <th>CASH_OUT</th>\n",
       "      <th>TRANSFER</th>\n",
       "    </tr>\n",
       "  </thead>\n",
       "  <tbody>\n",
       "    <tr>\n",
       "      <th>tipo</th>\n",
       "      <td>59</td>\n",
       "      <td>57</td>\n",
       "    </tr>\n",
       "  </tbody>\n",
       "</table>\n",
       "</div>"
      ],
      "text/plain": [
       "tipo  CASH_OUT  TRANSFER\n",
       "tipo        59        57"
      ]
     },
     "execution_count": 20,
     "metadata": {},
     "output_type": "execute_result"
    }
   ],
   "source": [
    "df2 = pd.DataFrame(df1).T\n",
    "df2"
   ]
  },
  {
   "cell_type": "code",
   "execution_count": 21,
   "id": "167114e7",
   "metadata": {
    "ExecuteTime": {
     "end_time": "2022-06-19T17:14:22.417561Z",
     "start_time": "2022-06-19T17:14:22.241159Z"
    },
    "hidden": true
   },
   "outputs": [
    {
     "data": {
      "text/plain": [
       "<AxesSubplot:title={'center':'Tipos de transações resultando em fraude'}, xlabel='tipo'>"
      ]
     },
     "execution_count": 21,
     "metadata": {},
     "output_type": "execute_result"
    },
    {
     "data": {
      "image/png": "[encoded data removed]",
      "text/plain": [
       "<Figure size 720x360 with 1 Axes>"
      ]
     },
     "metadata": {},
     "output_type": "display_data"
    }
   ],
   "source": [
    "plt.figure(figsize = (10,5))\n",
    "plt.title('Tipos de transações resultando em fraude', fontsize=18)\n",
    "sns.barplot(data=df2)"
   ]
  },
  {
   "cell_type": "markdown",
   "id": "88aef85b",
   "metadata": {
    "hidden": true
   },
   "source": [
    "As ocorrências de **fraudes** no nosso dataset foram através das transações: **Cash-out e Transferência**."
   ]
  },
  {
   "cell_type": "code",
   "execution_count": 22,
   "id": "63d61192",
   "metadata": {
    "ExecuteTime": {
     "end_time": "2022-06-19T17:14:22.678700Z",
     "start_time": "2022-06-19T17:14:22.420578Z"
    },
    "hidden": true
   },
   "outputs": [
    {
     "data": {
      "image/png": "[encoded data removed]",
      "text/plain": [
       "<Figure size 720x432 with 1 Axes>"
      ]
     },
     "metadata": {},
     "output_type": "display_data"
    }
   ],
   "source": [
    "fig = plt.figure(figsize=(10,6))\n",
    "sns.histplot(dados_fraude['novo_saldo_c1'], stat=\"percent\")\n",
    "plt.title('Distribuição do saldo do cliente 1 após fraude')\n",
    "plt.show()"
   ]
  },
  {
   "cell_type": "code",
   "execution_count": 23,
   "id": "152c0407",
   "metadata": {
    "ExecuteTime": {
     "end_time": "2022-06-19T17:14:23.260423Z",
     "start_time": "2022-06-19T17:14:22.682749Z"
    },
    "hidden": true
   },
   "outputs": [
    {
     "data": {
      "image/png": "[encoded data removed]",
      "text/plain": [
       "<Figure size 720x432 with 1 Axes>"
      ]
     },
     "metadata": {},
     "output_type": "display_data"
    }
   ],
   "source": [
    "fig = plt.figure(figsize=(10,6))\n",
    "sns.histplot(dados_fraude['novo_saldo_c2'], stat=\"percent\")\n",
    "plt.title('Distribuição do saldo do cliente 2 após fraude')\n",
    "plt.show()"
   ]
  },
  {
   "cell_type": "markdown",
   "id": "21df0db2",
   "metadata": {
    "hidden": true
   },
   "source": [
    "Conseguimos verificar também que a grande maioria das fraudes **esvaziam os fundos** do cliente 1, transferindo para outra conta e depois **sacando do sistema.**"
   ]
  },
  {
   "cell_type": "markdown",
   "id": "939b551c",
   "metadata": {
    "heading_collapsed": true,
    "hidden": true
   },
   "source": [
    "## Tipos de transações financeiras realizadas - Não Fraude"
   ]
  },
  {
   "cell_type": "code",
   "execution_count": 24,
   "id": "9ee857a0",
   "metadata": {
    "ExecuteTime": {
     "end_time": "2022-06-19T17:14:23.302337Z",
     "start_time": "2022-06-19T17:14:23.263651Z"
    },
    "hidden": true
   },
   "outputs": [
    {
     "data": {
      "text/html": [
       "<div>\n",
       "<style scoped>\n",
       "    .dataframe tbody tr th:only-of-type {\n",
       "        vertical-align: middle;\n",
       "    }\n",
       "\n",
       "    .dataframe tbody tr th {\n",
       "        vertical-align: top;\n",
       "    }\n",
       "\n",
       "    .dataframe thead th {\n",
       "        text-align: right;\n",
       "    }\n",
       "</style>\n",
       "<table border=\"1\" class=\"dataframe\">\n",
       "  <thead>\n",
       "    <tr style=\"text-align: right;\">\n",
       "      <th></th>\n",
       "      <th>tempo</th>\n",
       "      <th>tipo</th>\n",
       "      <th>valor</th>\n",
       "      <th>cliente1</th>\n",
       "      <th>saldo_inicial_c1</th>\n",
       "      <th>novo_saldo_c1</th>\n",
       "      <th>cliente2</th>\n",
       "      <th>saldo_inicial_c2</th>\n",
       "      <th>novo_saldo_c2</th>\n",
       "      <th>fraude</th>\n",
       "      <th>super_fraude</th>\n",
       "    </tr>\n",
       "  </thead>\n",
       "  <tbody>\n",
       "    <tr>\n",
       "      <th>0</th>\n",
       "      <td>1</td>\n",
       "      <td>PAYMENT</td>\n",
       "      <td>9839.64</td>\n",
       "      <td>C1231006815</td>\n",
       "      <td>170136.00</td>\n",
       "      <td>160296.36</td>\n",
       "      <td>M1979787155</td>\n",
       "      <td>0.00</td>\n",
       "      <td>0.00</td>\n",
       "      <td>0</td>\n",
       "      <td>0</td>\n",
       "    </tr>\n",
       "    <tr>\n",
       "      <th>1</th>\n",
       "      <td>1</td>\n",
       "      <td>PAYMENT</td>\n",
       "      <td>1864.28</td>\n",
       "      <td>C1666544295</td>\n",
       "      <td>21249.00</td>\n",
       "      <td>19384.72</td>\n",
       "      <td>M2044282225</td>\n",
       "      <td>0.00</td>\n",
       "      <td>0.00</td>\n",
       "      <td>0</td>\n",
       "      <td>0</td>\n",
       "    </tr>\n",
       "    <tr>\n",
       "      <th>4</th>\n",
       "      <td>1</td>\n",
       "      <td>PAYMENT</td>\n",
       "      <td>11668.14</td>\n",
       "      <td>C2048537720</td>\n",
       "      <td>41554.00</td>\n",
       "      <td>29885.86</td>\n",
       "      <td>M1230701703</td>\n",
       "      <td>0.00</td>\n",
       "      <td>0.00</td>\n",
       "      <td>0</td>\n",
       "      <td>0</td>\n",
       "    </tr>\n",
       "    <tr>\n",
       "      <th>5</th>\n",
       "      <td>1</td>\n",
       "      <td>PAYMENT</td>\n",
       "      <td>7817.71</td>\n",
       "      <td>C90045638</td>\n",
       "      <td>53860.00</td>\n",
       "      <td>46042.29</td>\n",
       "      <td>M573487274</td>\n",
       "      <td>0.00</td>\n",
       "      <td>0.00</td>\n",
       "      <td>0</td>\n",
       "      <td>0</td>\n",
       "    </tr>\n",
       "    <tr>\n",
       "      <th>6</th>\n",
       "      <td>1</td>\n",
       "      <td>PAYMENT</td>\n",
       "      <td>7107.77</td>\n",
       "      <td>C154988899</td>\n",
       "      <td>183195.00</td>\n",
       "      <td>176087.23</td>\n",
       "      <td>M408069119</td>\n",
       "      <td>0.00</td>\n",
       "      <td>0.00</td>\n",
       "      <td>0</td>\n",
       "      <td>0</td>\n",
       "    </tr>\n",
       "    <tr>\n",
       "      <th>...</th>\n",
       "      <td>...</td>\n",
       "      <td>...</td>\n",
       "      <td>...</td>\n",
       "      <td>...</td>\n",
       "      <td>...</td>\n",
       "      <td>...</td>\n",
       "      <td>...</td>\n",
       "      <td>...</td>\n",
       "      <td>...</td>\n",
       "      <td>...</td>\n",
       "      <td>...</td>\n",
       "    </tr>\n",
       "    <tr>\n",
       "      <th>101608</th>\n",
       "      <td>10</td>\n",
       "      <td>PAYMENT</td>\n",
       "      <td>7477.02</td>\n",
       "      <td>C513257306</td>\n",
       "      <td>785.00</td>\n",
       "      <td>0.00</td>\n",
       "      <td>M524833426</td>\n",
       "      <td>0.00</td>\n",
       "      <td>0.00</td>\n",
       "      <td>0</td>\n",
       "      <td>0</td>\n",
       "    </tr>\n",
       "    <tr>\n",
       "      <th>101609</th>\n",
       "      <td>10</td>\n",
       "      <td>CASH_OUT</td>\n",
       "      <td>282252.35</td>\n",
       "      <td>C210473293</td>\n",
       "      <td>220339.29</td>\n",
       "      <td>0.00</td>\n",
       "      <td>C1172042998</td>\n",
       "      <td>95156.01</td>\n",
       "      <td>91286.97</td>\n",
       "      <td>0</td>\n",
       "      <td>0</td>\n",
       "    </tr>\n",
       "    <tr>\n",
       "      <th>101610</th>\n",
       "      <td>10</td>\n",
       "      <td>PAYMENT</td>\n",
       "      <td>17289.01</td>\n",
       "      <td>C807582280</td>\n",
       "      <td>0.00</td>\n",
       "      <td>0.00</td>\n",
       "      <td>M334249577</td>\n",
       "      <td>0.00</td>\n",
       "      <td>0.00</td>\n",
       "      <td>0</td>\n",
       "      <td>0</td>\n",
       "    </tr>\n",
       "    <tr>\n",
       "      <th>101611</th>\n",
       "      <td>10</td>\n",
       "      <td>TRANSFER</td>\n",
       "      <td>1347146.45</td>\n",
       "      <td>C1315779140</td>\n",
       "      <td>1605.00</td>\n",
       "      <td>0.00</td>\n",
       "      <td>C1631408038</td>\n",
       "      <td>541639.43</td>\n",
       "      <td>2186953.43</td>\n",
       "      <td>0</td>\n",
       "      <td>0</td>\n",
       "    </tr>\n",
       "    <tr>\n",
       "      <th>101612</th>\n",
       "      <td>10</td>\n",
       "      <td>CASH_OUT</td>\n",
       "      <td>469539.21</td>\n",
       "      <td>C515691325</td>\n",
       "      <td>31133.00</td>\n",
       "      <td>0.00</td>\n",
       "      <td>C1383702768</td>\n",
       "      <td>0.00</td>\n",
       "      <td>469539.21</td>\n",
       "      <td>0</td>\n",
       "      <td>0</td>\n",
       "    </tr>\n",
       "  </tbody>\n",
       "</table>\n",
       "<p>101497 rows × 11 columns</p>\n",
       "</div>"
      ],
      "text/plain": [
       "        tempo      tipo      valor     cliente1  saldo_inicial_c1  \\\n",
       "0           1   PAYMENT    9839.64  C1231006815         170136.00   \n",
       "1           1   PAYMENT    1864.28  C1666544295          21249.00   \n",
       "4           1   PAYMENT   11668.14  C2048537720          41554.00   \n",
       "5           1   PAYMENT    7817.71    C90045638          53860.00   \n",
       "6           1   PAYMENT    7107.77   C154988899         183195.00   \n",
       "...       ...       ...        ...          ...               ...   \n",
       "101608     10   PAYMENT    7477.02   C513257306            785.00   \n",
       "101609     10  CASH_OUT  282252.35   C210473293         220339.29   \n",
       "101610     10   PAYMENT   17289.01   C807582280              0.00   \n",
       "101611     10  TRANSFER 1347146.45  C1315779140           1605.00   \n",
       "101612     10  CASH_OUT  469539.21   C515691325          31133.00   \n",
       "\n",
       "        novo_saldo_c1     cliente2  saldo_inicial_c2  novo_saldo_c2  fraude  \\\n",
       "0           160296.36  M1979787155              0.00           0.00       0   \n",
       "1            19384.72  M2044282225              0.00           0.00       0   \n",
       "4            29885.86  M1230701703              0.00           0.00       0   \n",
       "5            46042.29   M573487274              0.00           0.00       0   \n",
       "6           176087.23   M408069119              0.00           0.00       0   \n",
       "...               ...          ...               ...            ...     ...   \n",
       "101608           0.00   M524833426              0.00           0.00       0   \n",
       "101609           0.00  C1172042998          95156.01       91286.97       0   \n",
       "101610           0.00   M334249577              0.00           0.00       0   \n",
       "101611           0.00  C1631408038         541639.43     2186953.43       0   \n",
       "101612           0.00  C1383702768              0.00      469539.21       0   \n",
       "\n",
       "        super_fraude  \n",
       "0                  0  \n",
       "1                  0  \n",
       "4                  0  \n",
       "5                  0  \n",
       "6                  0  \n",
       "...              ...  \n",
       "101608             0  \n",
       "101609             0  \n",
       "101610             0  \n",
       "101611             0  \n",
       "101612             0  \n",
       "\n",
       "[101497 rows x 11 columns]"
      ]
     },
     "execution_count": 24,
     "metadata": {},
     "output_type": "execute_result"
    }
   ],
   "source": [
    "dados_nao_fraude = dados['fraude'] == 0\n",
    "dados_nao_fraude = dados[dados_nao_fraude]\n",
    "dados_nao_fraude"
   ]
  },
  {
   "cell_type": "code",
   "execution_count": 25,
   "id": "58a896e7",
   "metadata": {
    "ExecuteTime": {
     "end_time": "2022-06-19T17:14:23.333031Z",
     "start_time": "2022-06-19T17:14:23.305352Z"
    },
    "hidden": true
   },
   "outputs": [
    {
     "data": {
      "text/plain": [
       "tipo\n",
       "CASH_IN     20540\n",
       "CASH_OUT    31251\n",
       "DEBIT        1012\n",
       "PAYMENT     40062\n",
       "TRANSFER     8632\n",
       "Name: tipo, dtype: int64"
      ]
     },
     "execution_count": 25,
     "metadata": {},
     "output_type": "execute_result"
    }
   ],
   "source": [
    "df3 = dados_nao_fraude.groupby('tipo').tipo.count()\n",
    "df3"
   ]
  },
  {
   "cell_type": "code",
   "execution_count": 26,
   "id": "0e1f17b1",
   "metadata": {
    "ExecuteTime": {
     "end_time": "2022-06-19T17:14:23.459448Z",
     "start_time": "2022-06-19T17:14:23.415356Z"
    },
    "hidden": true
   },
   "outputs": [
    {
     "data": {
      "text/html": [
       "<div>\n",
       "<style scoped>\n",
       "    .dataframe tbody tr th:only-of-type {\n",
       "        vertical-align: middle;\n",
       "    }\n",
       "\n",
       "    .dataframe tbody tr th {\n",
       "        vertical-align: top;\n",
       "    }\n",
       "\n",
       "    .dataframe thead th {\n",
       "        text-align: right;\n",
       "    }\n",
       "</style>\n",
       "<table border=\"1\" class=\"dataframe\">\n",
       "  <thead>\n",
       "    <tr style=\"text-align: right;\">\n",
       "      <th>tipo</th>\n",
       "      <th>CASH_IN</th>\n",
       "      <th>CASH_OUT</th>\n",
       "      <th>DEBIT</th>\n",
       "      <th>PAYMENT</th>\n",
       "      <th>TRANSFER</th>\n",
       "    </tr>\n",
       "  </thead>\n",
       "  <tbody>\n",
       "    <tr>\n",
       "      <th>tipo</th>\n",
       "      <td>20540</td>\n",
       "      <td>31251</td>\n",
       "      <td>1012</td>\n",
       "      <td>40062</td>\n",
       "      <td>8632</td>\n",
       "    </tr>\n",
       "  </tbody>\n",
       "</table>\n",
       "</div>"
      ],
      "text/plain": [
       "tipo  CASH_IN  CASH_OUT  DEBIT  PAYMENT  TRANSFER\n",
       "tipo    20540     31251   1012    40062      8632"
      ]
     },
     "execution_count": 26,
     "metadata": {},
     "output_type": "execute_result"
    }
   ],
   "source": [
    "df4 = pd.DataFrame(df3).T\n",
    "df4"
   ]
  },
  {
   "cell_type": "code",
   "execution_count": 27,
   "id": "30beb3a8",
   "metadata": {
    "ExecuteTime": {
     "end_time": "2022-06-19T17:14:23.698192Z",
     "start_time": "2022-06-19T17:14:23.468614Z"
    },
    "hidden": true
   },
   "outputs": [
    {
     "data": {
      "text/plain": [
       "<AxesSubplot:title={'center':'Tipos de transações não fraude'}, xlabel='tipo'>"
      ]
     },
     "execution_count": 27,
     "metadata": {},
     "output_type": "execute_result"
    },
    {
     "data": {
      "image/png": "[encoded data removed]",
      "text/plain": [
       "<Figure size 720x360 with 1 Axes>"
      ]
     },
     "metadata": {},
     "output_type": "display_data"
    }
   ],
   "source": [
    "plt.figure(figsize = (10,5))\n",
    "plt.title('Tipos de transações não fraude', fontsize=18)\n",
    "sns.barplot(data=df4)"
   ]
  },
  {
   "cell_type": "code",
   "execution_count": 28,
   "id": "4518c731",
   "metadata": {
    "ExecuteTime": {
     "end_time": "2022-06-19T17:14:23.766538Z",
     "start_time": "2022-06-19T17:14:23.701172Z"
    },
    "hidden": true
   },
   "outputs": [
    {
     "data": {
      "text/html": [
       "<div>\n",
       "<style scoped>\n",
       "    .dataframe tbody tr th:only-of-type {\n",
       "        vertical-align: middle;\n",
       "    }\n",
       "\n",
       "    .dataframe tbody tr th {\n",
       "        vertical-align: top;\n",
       "    }\n",
       "\n",
       "    .dataframe thead th {\n",
       "        text-align: right;\n",
       "    }\n",
       "</style>\n",
       "<table border=\"1\" class=\"dataframe\">\n",
       "  <thead>\n",
       "    <tr style=\"text-align: right;\">\n",
       "      <th></th>\n",
       "      <th>count</th>\n",
       "      <th>mean</th>\n",
       "      <th>std</th>\n",
       "      <th>min</th>\n",
       "      <th>25%</th>\n",
       "      <th>50%</th>\n",
       "      <th>75%</th>\n",
       "      <th>max</th>\n",
       "    </tr>\n",
       "  </thead>\n",
       "  <tbody>\n",
       "    <tr>\n",
       "      <th>tempo</th>\n",
       "      <td>101497.00</td>\n",
       "      <td>8.53</td>\n",
       "      <td>1.82</td>\n",
       "      <td>1.00</td>\n",
       "      <td>8.00</td>\n",
       "      <td>9.00</td>\n",
       "      <td>10.00</td>\n",
       "      <td>10.00</td>\n",
       "    </tr>\n",
       "    <tr>\n",
       "      <th>valor</th>\n",
       "      <td>101497.00</td>\n",
       "      <td>173670.07</td>\n",
       "      <td>341101.61</td>\n",
       "      <td>0.32</td>\n",
       "      <td>10005.52</td>\n",
       "      <td>53386.53</td>\n",
       "      <td>212434.54</td>\n",
       "      <td>6419835.27</td>\n",
       "    </tr>\n",
       "    <tr>\n",
       "      <th>saldo_inicial_c1</th>\n",
       "      <td>101497.00</td>\n",
       "      <td>907580.37</td>\n",
       "      <td>2830581.02</td>\n",
       "      <td>0.00</td>\n",
       "      <td>0.00</td>\n",
       "      <td>20181.00</td>\n",
       "      <td>194571.06</td>\n",
       "      <td>38939424.03</td>\n",
       "    </tr>\n",
       "    <tr>\n",
       "      <th>novo_saldo_c1</th>\n",
       "      <td>101497.00</td>\n",
       "      <td>924521.47</td>\n",
       "      <td>2868782.32</td>\n",
       "      <td>0.00</td>\n",
       "      <td>0.00</td>\n",
       "      <td>0.00</td>\n",
       "      <td>220065.78</td>\n",
       "      <td>38946233.02</td>\n",
       "    </tr>\n",
       "    <tr>\n",
       "      <th>saldo_inicial_c2</th>\n",
       "      <td>101497.00</td>\n",
       "      <td>881789.90</td>\n",
       "      <td>2400810.91</td>\n",
       "      <td>0.00</td>\n",
       "      <td>0.00</td>\n",
       "      <td>21173.00</td>\n",
       "      <td>592635.66</td>\n",
       "      <td>34008736.98</td>\n",
       "    </tr>\n",
       "    <tr>\n",
       "      <th>novo_saldo_c2</th>\n",
       "      <td>101497.00</td>\n",
       "      <td>1184599.02</td>\n",
       "      <td>2798441.21</td>\n",
       "      <td>0.00</td>\n",
       "      <td>0.00</td>\n",
       "      <td>52025.86</td>\n",
       "      <td>1065763.69</td>\n",
       "      <td>38946233.02</td>\n",
       "    </tr>\n",
       "    <tr>\n",
       "      <th>fraude</th>\n",
       "      <td>101497.00</td>\n",
       "      <td>0.00</td>\n",
       "      <td>0.00</td>\n",
       "      <td>0.00</td>\n",
       "      <td>0.00</td>\n",
       "      <td>0.00</td>\n",
       "      <td>0.00</td>\n",
       "      <td>0.00</td>\n",
       "    </tr>\n",
       "    <tr>\n",
       "      <th>super_fraude</th>\n",
       "      <td>101497.00</td>\n",
       "      <td>0.00</td>\n",
       "      <td>0.00</td>\n",
       "      <td>0.00</td>\n",
       "      <td>0.00</td>\n",
       "      <td>0.00</td>\n",
       "      <td>0.00</td>\n",
       "      <td>0.00</td>\n",
       "    </tr>\n",
       "  </tbody>\n",
       "</table>\n",
       "</div>"
      ],
      "text/plain": [
       "                     count       mean        std  min      25%      50%  \\\n",
       "tempo            101497.00       8.53       1.82 1.00     8.00     9.00   \n",
       "valor            101497.00  173670.07  341101.61 0.32 10005.52 53386.53   \n",
       "saldo_inicial_c1 101497.00  907580.37 2830581.02 0.00     0.00 20181.00   \n",
       "novo_saldo_c1    101497.00  924521.47 2868782.32 0.00     0.00     0.00   \n",
       "saldo_inicial_c2 101497.00  881789.90 2400810.91 0.00     0.00 21173.00   \n",
       "novo_saldo_c2    101497.00 1184599.02 2798441.21 0.00     0.00 52025.86   \n",
       "fraude           101497.00       0.00       0.00 0.00     0.00     0.00   \n",
       "super_fraude     101497.00       0.00       0.00 0.00     0.00     0.00   \n",
       "\n",
       "                        75%         max  \n",
       "tempo                 10.00       10.00  \n",
       "valor             212434.54  6419835.27  \n",
       "saldo_inicial_c1  194571.06 38939424.03  \n",
       "novo_saldo_c1     220065.78 38946233.02  \n",
       "saldo_inicial_c2  592635.66 34008736.98  \n",
       "novo_saldo_c2    1065763.69 38946233.02  \n",
       "fraude                 0.00        0.00  \n",
       "super_fraude           0.00        0.00  "
      ]
     },
     "execution_count": 28,
     "metadata": {},
     "output_type": "execute_result"
    }
   ],
   "source": [
    "dados_nao_fraude.describe().T"
   ]
  },
  {
   "cell_type": "markdown",
   "id": "c86836bd",
   "metadata": {
    "heading_collapsed": true
   },
   "source": [
    "# Transformação de variáveis categóricas em numéricas"
   ]
  },
  {
   "cell_type": "markdown",
   "id": "3a4e2b3d",
   "metadata": {
    "hidden": true
   },
   "source": [
    "Vamos utilizar o **One-Hot-enconding**, que criará colunas e dirá se existe ou não determinada variável, sem nenhum tipo de hierarquia, isto é, todas as colunas têm 0 ou 1. Portanto, uma coluna binária. Para fazermos o One-Hot-enconding, podemos utilizar um método do Pandas chamado **Dummy**."
   ]
  },
  {
   "cell_type": "code",
   "execution_count": 29,
   "id": "7087904a",
   "metadata": {
    "ExecuteTime": {
     "end_time": "2022-06-19T17:14:23.835629Z",
     "start_time": "2022-06-19T17:14:23.770680Z"
    },
    "hidden": true
   },
   "outputs": [
    {
     "data": {
      "text/html": [
       "<div>\n",
       "<style scoped>\n",
       "    .dataframe tbody tr th:only-of-type {\n",
       "        vertical-align: middle;\n",
       "    }\n",
       "\n",
       "    .dataframe tbody tr th {\n",
       "        vertical-align: top;\n",
       "    }\n",
       "\n",
       "    .dataframe thead th {\n",
       "        text-align: right;\n",
       "    }\n",
       "</style>\n",
       "<table border=\"1\" class=\"dataframe\">\n",
       "  <thead>\n",
       "    <tr style=\"text-align: right;\">\n",
       "      <th></th>\n",
       "      <th>tempo</th>\n",
       "      <th>valor</th>\n",
       "      <th>cliente1</th>\n",
       "      <th>saldo_inicial_c1</th>\n",
       "      <th>novo_saldo_c1</th>\n",
       "      <th>cliente2</th>\n",
       "      <th>saldo_inicial_c2</th>\n",
       "      <th>novo_saldo_c2</th>\n",
       "      <th>fraude</th>\n",
       "      <th>super_fraude</th>\n",
       "      <th>tipo_CASH_IN</th>\n",
       "      <th>tipo_CASH_OUT</th>\n",
       "      <th>tipo_DEBIT</th>\n",
       "      <th>tipo_PAYMENT</th>\n",
       "      <th>tipo_TRANSFER</th>\n",
       "    </tr>\n",
       "  </thead>\n",
       "  <tbody>\n",
       "    <tr>\n",
       "      <th>0</th>\n",
       "      <td>1</td>\n",
       "      <td>9839.64</td>\n",
       "      <td>C1231006815</td>\n",
       "      <td>170136.00</td>\n",
       "      <td>160296.36</td>\n",
       "      <td>M1979787155</td>\n",
       "      <td>0.00</td>\n",
       "      <td>0.00</td>\n",
       "      <td>0</td>\n",
       "      <td>0</td>\n",
       "      <td>0</td>\n",
       "      <td>0</td>\n",
       "      <td>0</td>\n",
       "      <td>1</td>\n",
       "      <td>0</td>\n",
       "    </tr>\n",
       "    <tr>\n",
       "      <th>1</th>\n",
       "      <td>1</td>\n",
       "      <td>1864.28</td>\n",
       "      <td>C1666544295</td>\n",
       "      <td>21249.00</td>\n",
       "      <td>19384.72</td>\n",
       "      <td>M2044282225</td>\n",
       "      <td>0.00</td>\n",
       "      <td>0.00</td>\n",
       "      <td>0</td>\n",
       "      <td>0</td>\n",
       "      <td>0</td>\n",
       "      <td>0</td>\n",
       "      <td>0</td>\n",
       "      <td>1</td>\n",
       "      <td>0</td>\n",
       "    </tr>\n",
       "    <tr>\n",
       "      <th>2</th>\n",
       "      <td>1</td>\n",
       "      <td>181.00</td>\n",
       "      <td>C1305486145</td>\n",
       "      <td>181.00</td>\n",
       "      <td>0.00</td>\n",
       "      <td>C553264065</td>\n",
       "      <td>0.00</td>\n",
       "      <td>0.00</td>\n",
       "      <td>1</td>\n",
       "      <td>0</td>\n",
       "      <td>0</td>\n",
       "      <td>0</td>\n",
       "      <td>0</td>\n",
       "      <td>0</td>\n",
       "      <td>1</td>\n",
       "    </tr>\n",
       "    <tr>\n",
       "      <th>3</th>\n",
       "      <td>1</td>\n",
       "      <td>181.00</td>\n",
       "      <td>C840083671</td>\n",
       "      <td>181.00</td>\n",
       "      <td>0.00</td>\n",
       "      <td>C38997010</td>\n",
       "      <td>21182.00</td>\n",
       "      <td>0.00</td>\n",
       "      <td>1</td>\n",
       "      <td>0</td>\n",
       "      <td>0</td>\n",
       "      <td>1</td>\n",
       "      <td>0</td>\n",
       "      <td>0</td>\n",
       "      <td>0</td>\n",
       "    </tr>\n",
       "    <tr>\n",
       "      <th>4</th>\n",
       "      <td>1</td>\n",
       "      <td>11668.14</td>\n",
       "      <td>C2048537720</td>\n",
       "      <td>41554.00</td>\n",
       "      <td>29885.86</td>\n",
       "      <td>M1230701703</td>\n",
       "      <td>0.00</td>\n",
       "      <td>0.00</td>\n",
       "      <td>0</td>\n",
       "      <td>0</td>\n",
       "      <td>0</td>\n",
       "      <td>0</td>\n",
       "      <td>0</td>\n",
       "      <td>1</td>\n",
       "      <td>0</td>\n",
       "    </tr>\n",
       "    <tr>\n",
       "      <th>...</th>\n",
       "      <td>...</td>\n",
       "      <td>...</td>\n",
       "      <td>...</td>\n",
       "      <td>...</td>\n",
       "      <td>...</td>\n",
       "      <td>...</td>\n",
       "      <td>...</td>\n",
       "      <td>...</td>\n",
       "      <td>...</td>\n",
       "      <td>...</td>\n",
       "      <td>...</td>\n",
       "      <td>...</td>\n",
       "      <td>...</td>\n",
       "      <td>...</td>\n",
       "      <td>...</td>\n",
       "    </tr>\n",
       "    <tr>\n",
       "      <th>101608</th>\n",
       "      <td>10</td>\n",
       "      <td>7477.02</td>\n",
       "      <td>C513257306</td>\n",
       "      <td>785.00</td>\n",
       "      <td>0.00</td>\n",
       "      <td>M524833426</td>\n",
       "      <td>0.00</td>\n",
       "      <td>0.00</td>\n",
       "      <td>0</td>\n",
       "      <td>0</td>\n",
       "      <td>0</td>\n",
       "      <td>0</td>\n",
       "      <td>0</td>\n",
       "      <td>1</td>\n",
       "      <td>0</td>\n",
       "    </tr>\n",
       "    <tr>\n",
       "      <th>101609</th>\n",
       "      <td>10</td>\n",
       "      <td>282252.35</td>\n",
       "      <td>C210473293</td>\n",
       "      <td>220339.29</td>\n",
       "      <td>0.00</td>\n",
       "      <td>C1172042998</td>\n",
       "      <td>95156.01</td>\n",
       "      <td>91286.97</td>\n",
       "      <td>0</td>\n",
       "      <td>0</td>\n",
       "      <td>0</td>\n",
       "      <td>1</td>\n",
       "      <td>0</td>\n",
       "      <td>0</td>\n",
       "      <td>0</td>\n",
       "    </tr>\n",
       "    <tr>\n",
       "      <th>101610</th>\n",
       "      <td>10</td>\n",
       "      <td>17289.01</td>\n",
       "      <td>C807582280</td>\n",
       "      <td>0.00</td>\n",
       "      <td>0.00</td>\n",
       "      <td>M334249577</td>\n",
       "      <td>0.00</td>\n",
       "      <td>0.00</td>\n",
       "      <td>0</td>\n",
       "      <td>0</td>\n",
       "      <td>0</td>\n",
       "      <td>0</td>\n",
       "      <td>0</td>\n",
       "      <td>1</td>\n",
       "      <td>0</td>\n",
       "    </tr>\n",
       "    <tr>\n",
       "      <th>101611</th>\n",
       "      <td>10</td>\n",
       "      <td>1347146.45</td>\n",
       "      <td>C1315779140</td>\n",
       "      <td>1605.00</td>\n",
       "      <td>0.00</td>\n",
       "      <td>C1631408038</td>\n",
       "      <td>541639.43</td>\n",
       "      <td>2186953.43</td>\n",
       "      <td>0</td>\n",
       "      <td>0</td>\n",
       "      <td>0</td>\n",
       "      <td>0</td>\n",
       "      <td>0</td>\n",
       "      <td>0</td>\n",
       "      <td>1</td>\n",
       "    </tr>\n",
       "    <tr>\n",
       "      <th>101612</th>\n",
       "      <td>10</td>\n",
       "      <td>469539.21</td>\n",
       "      <td>C515691325</td>\n",
       "      <td>31133.00</td>\n",
       "      <td>0.00</td>\n",
       "      <td>C1383702768</td>\n",
       "      <td>0.00</td>\n",
       "      <td>469539.21</td>\n",
       "      <td>0</td>\n",
       "      <td>0</td>\n",
       "      <td>0</td>\n",
       "      <td>1</td>\n",
       "      <td>0</td>\n",
       "      <td>0</td>\n",
       "      <td>0</td>\n",
       "    </tr>\n",
       "  </tbody>\n",
       "</table>\n",
       "<p>101613 rows × 15 columns</p>\n",
       "</div>"
      ],
      "text/plain": [
       "        tempo      valor     cliente1  saldo_inicial_c1  novo_saldo_c1  \\\n",
       "0           1    9839.64  C1231006815         170136.00      160296.36   \n",
       "1           1    1864.28  C1666544295          21249.00       19384.72   \n",
       "2           1     181.00  C1305486145            181.00           0.00   \n",
       "3           1     181.00   C840083671            181.00           0.00   \n",
       "4           1   11668.14  C2048537720          41554.00       29885.86   \n",
       "...       ...        ...          ...               ...            ...   \n",
       "101608     10    7477.02   C513257306            785.00           0.00   \n",
       "101609     10  282252.35   C210473293         220339.29           0.00   \n",
       "101610     10   17289.01   C807582280              0.00           0.00   \n",
       "101611     10 1347146.45  C1315779140           1605.00           0.00   \n",
       "101612     10  469539.21   C515691325          31133.00           0.00   \n",
       "\n",
       "           cliente2  saldo_inicial_c2  novo_saldo_c2  fraude  super_fraude  \\\n",
       "0       M1979787155              0.00           0.00       0             0   \n",
       "1       M2044282225              0.00           0.00       0             0   \n",
       "2        C553264065              0.00           0.00       1             0   \n",
       "3         C38997010          21182.00           0.00       1             0   \n",
       "4       M1230701703              0.00           0.00       0             0   \n",
       "...             ...               ...            ...     ...           ...   \n",
       "101608   M524833426              0.00           0.00       0             0   \n",
       "101609  C1172042998          95156.01       91286.97       0             0   \n",
       "101610   M334249577              0.00           0.00       0             0   \n",
       "101611  C1631408038         541639.43     2186953.43       0             0   \n",
       "101612  C1383702768              0.00      469539.21       0             0   \n",
       "\n",
       "        tipo_CASH_IN  tipo_CASH_OUT  tipo_DEBIT  tipo_PAYMENT  tipo_TRANSFER  \n",
       "0                  0              0           0             1              0  \n",
       "1                  0              0           0             1              0  \n",
       "2                  0              0           0             0              1  \n",
       "3                  0              1           0             0              0  \n",
       "4                  0              0           0             1              0  \n",
       "...              ...            ...         ...           ...            ...  \n",
       "101608             0              0           0             1              0  \n",
       "101609             0              1           0             0              0  \n",
       "101610             0              0           0             1              0  \n",
       "101611             0              0           0             0              1  \n",
       "101612             0              1           0             0              0  \n",
       "\n",
       "[101613 rows x 15 columns]"
      ]
     },
     "execution_count": 29,
     "metadata": {},
     "output_type": "execute_result"
    }
   ],
   "source": [
    "dados = pd.get_dummies(data=dados, columns=['tipo'])\n",
    "dados"
   ]
  },
  {
   "cell_type": "markdown",
   "id": "394a5c95",
   "metadata": {
    "heading_collapsed": true
   },
   "source": [
    "# Removendo variáveis"
   ]
  },
  {
   "cell_type": "markdown",
   "id": "a9eb0fde",
   "metadata": {
    "hidden": true
   },
   "source": [
    "Removeremos as colunas 'cliente 1' e 'cliente 2', porque os nomes dos clientes não farão diferença no nosso modelo. Outra coluna que podemos remover é a \"super_fraude\", porque ela só tem zeros e não ocorreu nenhuma super_fraude."
   ]
  },
  {
   "cell_type": "code",
   "execution_count": 30,
   "id": "006c6f0f",
   "metadata": {
    "ExecuteTime": {
     "end_time": "2022-06-19T17:14:23.882952Z",
     "start_time": "2022-06-19T17:14:23.838898Z"
    },
    "hidden": true
   },
   "outputs": [
    {
     "data": {
      "text/html": [
       "<div>\n",
       "<style scoped>\n",
       "    .dataframe tbody tr th:only-of-type {\n",
       "        vertical-align: middle;\n",
       "    }\n",
       "\n",
       "    .dataframe tbody tr th {\n",
       "        vertical-align: top;\n",
       "    }\n",
       "\n",
       "    .dataframe thead th {\n",
       "        text-align: right;\n",
       "    }\n",
       "</style>\n",
       "<table border=\"1\" class=\"dataframe\">\n",
       "  <thead>\n",
       "    <tr style=\"text-align: right;\">\n",
       "      <th></th>\n",
       "      <th>tempo</th>\n",
       "      <th>valor</th>\n",
       "      <th>saldo_inicial_c1</th>\n",
       "      <th>novo_saldo_c1</th>\n",
       "      <th>saldo_inicial_c2</th>\n",
       "      <th>novo_saldo_c2</th>\n",
       "      <th>fraude</th>\n",
       "      <th>tipo_CASH_IN</th>\n",
       "      <th>tipo_CASH_OUT</th>\n",
       "      <th>tipo_DEBIT</th>\n",
       "      <th>tipo_PAYMENT</th>\n",
       "      <th>tipo_TRANSFER</th>\n",
       "    </tr>\n",
       "  </thead>\n",
       "  <tbody>\n",
       "    <tr>\n",
       "      <th>0</th>\n",
       "      <td>1</td>\n",
       "      <td>9839.64</td>\n",
       "      <td>170136.00</td>\n",
       "      <td>160296.36</td>\n",
       "      <td>0.00</td>\n",
       "      <td>0.00</td>\n",
       "      <td>0</td>\n",
       "      <td>0</td>\n",
       "      <td>0</td>\n",
       "      <td>0</td>\n",
       "      <td>1</td>\n",
       "      <td>0</td>\n",
       "    </tr>\n",
       "    <tr>\n",
       "      <th>1</th>\n",
       "      <td>1</td>\n",
       "      <td>1864.28</td>\n",
       "      <td>21249.00</td>\n",
       "      <td>19384.72</td>\n",
       "      <td>0.00</td>\n",
       "      <td>0.00</td>\n",
       "      <td>0</td>\n",
       "      <td>0</td>\n",
       "      <td>0</td>\n",
       "      <td>0</td>\n",
       "      <td>1</td>\n",
       "      <td>0</td>\n",
       "    </tr>\n",
       "    <tr>\n",
       "      <th>2</th>\n",
       "      <td>1</td>\n",
       "      <td>181.00</td>\n",
       "      <td>181.00</td>\n",
       "      <td>0.00</td>\n",
       "      <td>0.00</td>\n",
       "      <td>0.00</td>\n",
       "      <td>1</td>\n",
       "      <td>0</td>\n",
       "      <td>0</td>\n",
       "      <td>0</td>\n",
       "      <td>0</td>\n",
       "      <td>1</td>\n",
       "    </tr>\n",
       "    <tr>\n",
       "      <th>3</th>\n",
       "      <td>1</td>\n",
       "      <td>181.00</td>\n",
       "      <td>181.00</td>\n",
       "      <td>0.00</td>\n",
       "      <td>21182.00</td>\n",
       "      <td>0.00</td>\n",
       "      <td>1</td>\n",
       "      <td>0</td>\n",
       "      <td>1</td>\n",
       "      <td>0</td>\n",
       "      <td>0</td>\n",
       "      <td>0</td>\n",
       "    </tr>\n",
       "    <tr>\n",
       "      <th>4</th>\n",
       "      <td>1</td>\n",
       "      <td>11668.14</td>\n",
       "      <td>41554.00</td>\n",
       "      <td>29885.86</td>\n",
       "      <td>0.00</td>\n",
       "      <td>0.00</td>\n",
       "      <td>0</td>\n",
       "      <td>0</td>\n",
       "      <td>0</td>\n",
       "      <td>0</td>\n",
       "      <td>1</td>\n",
       "      <td>0</td>\n",
       "    </tr>\n",
       "    <tr>\n",
       "      <th>...</th>\n",
       "      <td>...</td>\n",
       "      <td>...</td>\n",
       "      <td>...</td>\n",
       "      <td>...</td>\n",
       "      <td>...</td>\n",
       "      <td>...</td>\n",
       "      <td>...</td>\n",
       "      <td>...</td>\n",
       "      <td>...</td>\n",
       "      <td>...</td>\n",
       "      <td>...</td>\n",
       "      <td>...</td>\n",
       "    </tr>\n",
       "    <tr>\n",
       "      <th>101608</th>\n",
       "      <td>10</td>\n",
       "      <td>7477.02</td>\n",
       "      <td>785.00</td>\n",
       "      <td>0.00</td>\n",
       "      <td>0.00</td>\n",
       "      <td>0.00</td>\n",
       "      <td>0</td>\n",
       "      <td>0</td>\n",
       "      <td>0</td>\n",
       "      <td>0</td>\n",
       "      <td>1</td>\n",
       "      <td>0</td>\n",
       "    </tr>\n",
       "    <tr>\n",
       "      <th>101609</th>\n",
       "      <td>10</td>\n",
       "      <td>282252.35</td>\n",
       "      <td>220339.29</td>\n",
       "      <td>0.00</td>\n",
       "      <td>95156.01</td>\n",
       "      <td>91286.97</td>\n",
       "      <td>0</td>\n",
       "      <td>0</td>\n",
       "      <td>1</td>\n",
       "      <td>0</td>\n",
       "      <td>0</td>\n",
       "      <td>0</td>\n",
       "    </tr>\n",
       "    <tr>\n",
       "      <th>101610</th>\n",
       "      <td>10</td>\n",
       "      <td>17289.01</td>\n",
       "      <td>0.00</td>\n",
       "      <td>0.00</td>\n",
       "      <td>0.00</td>\n",
       "      <td>0.00</td>\n",
       "      <td>0</td>\n",
       "      <td>0</td>\n",
       "      <td>0</td>\n",
       "      <td>0</td>\n",
       "      <td>1</td>\n",
       "      <td>0</td>\n",
       "    </tr>\n",
       "    <tr>\n",
       "      <th>101611</th>\n",
       "      <td>10</td>\n",
       "      <td>1347146.45</td>\n",
       "      <td>1605.00</td>\n",
       "      <td>0.00</td>\n",
       "      <td>541639.43</td>\n",
       "      <td>2186953.43</td>\n",
       "      <td>0</td>\n",
       "      <td>0</td>\n",
       "      <td>0</td>\n",
       "      <td>0</td>\n",
       "      <td>0</td>\n",
       "      <td>1</td>\n",
       "    </tr>\n",
       "    <tr>\n",
       "      <th>101612</th>\n",
       "      <td>10</td>\n",
       "      <td>469539.21</td>\n",
       "      <td>31133.00</td>\n",
       "      <td>0.00</td>\n",
       "      <td>0.00</td>\n",
       "      <td>469539.21</td>\n",
       "      <td>0</td>\n",
       "      <td>0</td>\n",
       "      <td>1</td>\n",
       "      <td>0</td>\n",
       "      <td>0</td>\n",
       "      <td>0</td>\n",
       "    </tr>\n",
       "  </tbody>\n",
       "</table>\n",
       "<p>101613 rows × 12 columns</p>\n",
       "</div>"
      ],
      "text/plain": [
       "        tempo      valor  saldo_inicial_c1  novo_saldo_c1  saldo_inicial_c2  \\\n",
       "0           1    9839.64         170136.00      160296.36              0.00   \n",
       "1           1    1864.28          21249.00       19384.72              0.00   \n",
       "2           1     181.00            181.00           0.00              0.00   \n",
       "3           1     181.00            181.00           0.00          21182.00   \n",
       "4           1   11668.14          41554.00       29885.86              0.00   \n",
       "...       ...        ...               ...            ...               ...   \n",
       "101608     10    7477.02            785.00           0.00              0.00   \n",
       "101609     10  282252.35         220339.29           0.00          95156.01   \n",
       "101610     10   17289.01              0.00           0.00              0.00   \n",
       "101611     10 1347146.45           1605.00           0.00         541639.43   \n",
       "101612     10  469539.21          31133.00           0.00              0.00   \n",
       "\n",
       "        novo_saldo_c2  fraude  tipo_CASH_IN  tipo_CASH_OUT  tipo_DEBIT  \\\n",
       "0                0.00       0             0              0           0   \n",
       "1                0.00       0             0              0           0   \n",
       "2                0.00       1             0              0           0   \n",
       "3                0.00       1             0              1           0   \n",
       "4                0.00       0             0              0           0   \n",
       "...               ...     ...           ...            ...         ...   \n",
       "101608           0.00       0             0              0           0   \n",
       "101609       91286.97       0             0              1           0   \n",
       "101610           0.00       0             0              0           0   \n",
       "101611     2186953.43       0             0              0           0   \n",
       "101612      469539.21       0             0              1           0   \n",
       "\n",
       "        tipo_PAYMENT  tipo_TRANSFER  \n",
       "0                  1              0  \n",
       "1                  1              0  \n",
       "2                  0              1  \n",
       "3                  0              0  \n",
       "4                  1              0  \n",
       "...              ...            ...  \n",
       "101608             1              0  \n",
       "101609             0              0  \n",
       "101610             1              0  \n",
       "101611             0              1  \n",
       "101612             0              0  \n",
       "\n",
       "[101613 rows x 12 columns]"
      ]
     },
     "execution_count": 30,
     "metadata": {},
     "output_type": "execute_result"
    }
   ],
   "source": [
    "dados = dados.drop(['cliente1', 'cliente2', 'super_fraude'], axis=1)\n",
    "dados"
   ]
  },
  {
   "cell_type": "markdown",
   "id": "44fd7100",
   "metadata": {
    "heading_collapsed": true
   },
   "source": [
    "# Balanceamento dos dados"
   ]
  },
  {
   "cell_type": "code",
   "execution_count": 31,
   "id": "f161917b",
   "metadata": {
    "ExecuteTime": {
     "end_time": "2022-06-19T17:14:23.901457Z",
     "start_time": "2022-06-19T17:14:23.885907Z"
    },
    "hidden": true
   },
   "outputs": [
    {
     "data": {
      "text/plain": [
       "fraude\n",
       "0    101497\n",
       "1       116\n",
       "Name: tempo, dtype: int64"
      ]
     },
     "execution_count": 31,
     "metadata": {},
     "output_type": "execute_result"
    }
   ],
   "source": [
    "dados.groupby('fraude').tempo.count()"
   ]
  },
  {
   "cell_type": "markdown",
   "id": "797a8328",
   "metadata": {
    "hidden": true
   },
   "source": [
    "Como já tínhamos verificado na análise exploratória, nossa variável target **Fraude** está **desbalanceada**. Precisamos fazer o rebalanceamento dos dados para equilibrar as classes, diminuindo a probabilidade do modelo tornar-se tendencioso para uma determinada classe."
   ]
  },
  {
   "cell_type": "markdown",
   "id": "8bbb285e",
   "metadata": {
    "hidden": true
   },
   "source": [
    "Para este projeto, será utilizado o método **oversampling** pois não remove informações do sistema. Para aplicar o oversampling, será utilizado o método **SMOTE()**. Para balancear o dataset, são criadas linhas sintéticas com base nos dados já existentes."
   ]
  },
  {
   "cell_type": "code",
   "execution_count": 32,
   "id": "f07e90a0",
   "metadata": {
    "ExecuteTime": {
     "end_time": "2022-06-19T17:14:23.910372Z",
     "start_time": "2022-06-19T17:14:23.905180Z"
    },
    "hidden": true
   },
   "outputs": [],
   "source": [
    "smote = SMOTE(random_state=SEED)"
   ]
  },
  {
   "cell_type": "code",
   "execution_count": 33,
   "id": "c2c10af7",
   "metadata": {
    "ExecuteTime": {
     "end_time": "2022-06-19T17:14:23.925997Z",
     "start_time": "2022-06-19T17:14:23.915147Z"
    },
    "hidden": true
   },
   "outputs": [],
   "source": [
    "x = dados.drop('fraude', axis=1)\n",
    "y = dados['fraude']"
   ]
  },
  {
   "cell_type": "code",
   "execution_count": 34,
   "id": "669f2853",
   "metadata": {
    "ExecuteTime": {
     "end_time": "2022-06-19T17:14:24.109191Z",
     "start_time": "2022-06-19T17:14:23.930154Z"
    },
    "hidden": true
   },
   "outputs": [],
   "source": [
    "x_resampled, y_resampled = smote.fit_resample(x,y)"
   ]
  },
  {
   "cell_type": "code",
   "execution_count": 35,
   "id": "c50fafda",
   "metadata": {
    "ExecuteTime": {
     "end_time": "2022-06-19T17:14:24.158393Z",
     "start_time": "2022-06-19T17:14:24.112736Z"
    },
    "hidden": true
   },
   "outputs": [
    {
     "data": {
      "text/html": [
       "<div>\n",
       "<style scoped>\n",
       "    .dataframe tbody tr th:only-of-type {\n",
       "        vertical-align: middle;\n",
       "    }\n",
       "\n",
       "    .dataframe tbody tr th {\n",
       "        vertical-align: top;\n",
       "    }\n",
       "\n",
       "    .dataframe thead th {\n",
       "        text-align: right;\n",
       "    }\n",
       "</style>\n",
       "<table border=\"1\" class=\"dataframe\">\n",
       "  <thead>\n",
       "    <tr style=\"text-align: right;\">\n",
       "      <th></th>\n",
       "      <th>fraude</th>\n",
       "      <th>tempo</th>\n",
       "      <th>valor</th>\n",
       "      <th>saldo_inicial_c1</th>\n",
       "      <th>novo_saldo_c1</th>\n",
       "      <th>saldo_inicial_c2</th>\n",
       "      <th>novo_saldo_c2</th>\n",
       "      <th>tipo_CASH_IN</th>\n",
       "      <th>tipo_CASH_OUT</th>\n",
       "      <th>tipo_DEBIT</th>\n",
       "      <th>tipo_PAYMENT</th>\n",
       "      <th>tipo_TRANSFER</th>\n",
       "    </tr>\n",
       "  </thead>\n",
       "  <tbody>\n",
       "    <tr>\n",
       "      <th>0</th>\n",
       "      <td>0</td>\n",
       "      <td>1</td>\n",
       "      <td>9839.64</td>\n",
       "      <td>170136.00</td>\n",
       "      <td>160296.36</td>\n",
       "      <td>0.00</td>\n",
       "      <td>0.00</td>\n",
       "      <td>0</td>\n",
       "      <td>0</td>\n",
       "      <td>0</td>\n",
       "      <td>1</td>\n",
       "      <td>0</td>\n",
       "    </tr>\n",
       "    <tr>\n",
       "      <th>1</th>\n",
       "      <td>0</td>\n",
       "      <td>1</td>\n",
       "      <td>1864.28</td>\n",
       "      <td>21249.00</td>\n",
       "      <td>19384.72</td>\n",
       "      <td>0.00</td>\n",
       "      <td>0.00</td>\n",
       "      <td>0</td>\n",
       "      <td>0</td>\n",
       "      <td>0</td>\n",
       "      <td>1</td>\n",
       "      <td>0</td>\n",
       "    </tr>\n",
       "    <tr>\n",
       "      <th>2</th>\n",
       "      <td>1</td>\n",
       "      <td>1</td>\n",
       "      <td>181.00</td>\n",
       "      <td>181.00</td>\n",
       "      <td>0.00</td>\n",
       "      <td>0.00</td>\n",
       "      <td>0.00</td>\n",
       "      <td>0</td>\n",
       "      <td>0</td>\n",
       "      <td>0</td>\n",
       "      <td>0</td>\n",
       "      <td>1</td>\n",
       "    </tr>\n",
       "    <tr>\n",
       "      <th>3</th>\n",
       "      <td>1</td>\n",
       "      <td>1</td>\n",
       "      <td>181.00</td>\n",
       "      <td>181.00</td>\n",
       "      <td>0.00</td>\n",
       "      <td>21182.00</td>\n",
       "      <td>0.00</td>\n",
       "      <td>0</td>\n",
       "      <td>1</td>\n",
       "      <td>0</td>\n",
       "      <td>0</td>\n",
       "      <td>0</td>\n",
       "    </tr>\n",
       "    <tr>\n",
       "      <th>4</th>\n",
       "      <td>0</td>\n",
       "      <td>1</td>\n",
       "      <td>11668.14</td>\n",
       "      <td>41554.00</td>\n",
       "      <td>29885.86</td>\n",
       "      <td>0.00</td>\n",
       "      <td>0.00</td>\n",
       "      <td>0</td>\n",
       "      <td>0</td>\n",
       "      <td>0</td>\n",
       "      <td>1</td>\n",
       "      <td>0</td>\n",
       "    </tr>\n",
       "    <tr>\n",
       "      <th>...</th>\n",
       "      <td>...</td>\n",
       "      <td>...</td>\n",
       "      <td>...</td>\n",
       "      <td>...</td>\n",
       "      <td>...</td>\n",
       "      <td>...</td>\n",
       "      <td>...</td>\n",
       "      <td>...</td>\n",
       "      <td>...</td>\n",
       "      <td>...</td>\n",
       "      <td>...</td>\n",
       "      <td>...</td>\n",
       "    </tr>\n",
       "    <tr>\n",
       "      <th>202989</th>\n",
       "      <td>1</td>\n",
       "      <td>5</td>\n",
       "      <td>17608.96</td>\n",
       "      <td>17608.96</td>\n",
       "      <td>0.00</td>\n",
       "      <td>0.00</td>\n",
       "      <td>0.00</td>\n",
       "      <td>0</td>\n",
       "      <td>0</td>\n",
       "      <td>0</td>\n",
       "      <td>0</td>\n",
       "      <td>1</td>\n",
       "    </tr>\n",
       "    <tr>\n",
       "      <th>202990</th>\n",
       "      <td>1</td>\n",
       "      <td>7</td>\n",
       "      <td>12116.29</td>\n",
       "      <td>12116.29</td>\n",
       "      <td>0.00</td>\n",
       "      <td>0.00</td>\n",
       "      <td>0.00</td>\n",
       "      <td>0</td>\n",
       "      <td>0</td>\n",
       "      <td>0</td>\n",
       "      <td>0</td>\n",
       "      <td>1</td>\n",
       "    </tr>\n",
       "    <tr>\n",
       "      <th>202991</th>\n",
       "      <td>1</td>\n",
       "      <td>1</td>\n",
       "      <td>231612.88</td>\n",
       "      <td>231612.88</td>\n",
       "      <td>0.00</td>\n",
       "      <td>1945.59</td>\n",
       "      <td>9370.60</td>\n",
       "      <td>0</td>\n",
       "      <td>0</td>\n",
       "      <td>0</td>\n",
       "      <td>0</td>\n",
       "      <td>0</td>\n",
       "    </tr>\n",
       "    <tr>\n",
       "      <th>202992</th>\n",
       "      <td>1</td>\n",
       "      <td>9</td>\n",
       "      <td>547325.14</td>\n",
       "      <td>547325.14</td>\n",
       "      <td>0.00</td>\n",
       "      <td>0.00</td>\n",
       "      <td>0.00</td>\n",
       "      <td>0</td>\n",
       "      <td>0</td>\n",
       "      <td>0</td>\n",
       "      <td>0</td>\n",
       "      <td>1</td>\n",
       "    </tr>\n",
       "    <tr>\n",
       "      <th>202993</th>\n",
       "      <td>1</td>\n",
       "      <td>4</td>\n",
       "      <td>159298.59</td>\n",
       "      <td>159298.59</td>\n",
       "      <td>0.00</td>\n",
       "      <td>0.00</td>\n",
       "      <td>0.00</td>\n",
       "      <td>0</td>\n",
       "      <td>0</td>\n",
       "      <td>0</td>\n",
       "      <td>0</td>\n",
       "      <td>1</td>\n",
       "    </tr>\n",
       "  </tbody>\n",
       "</table>\n",
       "<p>202994 rows × 12 columns</p>\n",
       "</div>"
      ],
      "text/plain": [
       "        fraude  tempo     valor  saldo_inicial_c1  novo_saldo_c1  \\\n",
       "0            0      1   9839.64         170136.00      160296.36   \n",
       "1            0      1   1864.28          21249.00       19384.72   \n",
       "2            1      1    181.00            181.00           0.00   \n",
       "3            1      1    181.00            181.00           0.00   \n",
       "4            0      1  11668.14          41554.00       29885.86   \n",
       "...        ...    ...       ...               ...            ...   \n",
       "202989       1      5  17608.96          17608.96           0.00   \n",
       "202990       1      7  12116.29          12116.29           0.00   \n",
       "202991       1      1 231612.88         231612.88           0.00   \n",
       "202992       1      9 547325.14         547325.14           0.00   \n",
       "202993       1      4 159298.59         159298.59           0.00   \n",
       "\n",
       "        saldo_inicial_c2  novo_saldo_c2  tipo_CASH_IN  tipo_CASH_OUT  \\\n",
       "0                   0.00           0.00             0              0   \n",
       "1                   0.00           0.00             0              0   \n",
       "2                   0.00           0.00             0              0   \n",
       "3               21182.00           0.00             0              1   \n",
       "4                   0.00           0.00             0              0   \n",
       "...                  ...            ...           ...            ...   \n",
       "202989              0.00           0.00             0              0   \n",
       "202990              0.00           0.00             0              0   \n",
       "202991           1945.59        9370.60             0              0   \n",
       "202992              0.00           0.00             0              0   \n",
       "202993              0.00           0.00             0              0   \n",
       "\n",
       "        tipo_DEBIT  tipo_PAYMENT  tipo_TRANSFER  \n",
       "0                0             1              0  \n",
       "1                0             1              0  \n",
       "2                0             0              1  \n",
       "3                0             0              0  \n",
       "4                0             1              0  \n",
       "...            ...           ...            ...  \n",
       "202989           0             0              1  \n",
       "202990           0             0              1  \n",
       "202991           0             0              0  \n",
       "202992           0             0              1  \n",
       "202993           0             0              1  \n",
       "\n",
       "[202994 rows x 12 columns]"
      ]
     },
     "execution_count": 35,
     "metadata": {},
     "output_type": "execute_result"
    }
   ],
   "source": [
    "dados_balanceados = pd.concat([y_resampled, x_resampled], axis=1)\n",
    "dados_balanceados"
   ]
  },
  {
   "cell_type": "code",
   "execution_count": 36,
   "id": "6c7d3c82",
   "metadata": {
    "ExecuteTime": {
     "end_time": "2022-06-19T17:14:24.170870Z",
     "start_time": "2022-06-19T17:14:24.163137Z"
    },
    "hidden": true
   },
   "outputs": [
    {
     "name": "stdout",
     "output_type": "stream",
     "text": [
      "Nosso Conjunto de Dados balanceados tem 202994 linhas e 12 colunas.\n"
     ]
    }
   ],
   "source": [
    "print(f'Nosso Conjunto de Dados balanceados tem {dados_balanceados.shape[0]} linhas e {dados_balanceados.shape[1]} colunas.')"
   ]
  },
  {
   "cell_type": "code",
   "execution_count": 37,
   "id": "738580ee",
   "metadata": {
    "ExecuteTime": {
     "end_time": "2022-06-19T17:14:24.193614Z",
     "start_time": "2022-06-19T17:14:24.173459Z"
    },
    "hidden": true
   },
   "outputs": [
    {
     "data": {
      "text/plain": [
       "fraude\n",
       "0    101497\n",
       "1    101497\n",
       "Name: tempo, dtype: int64"
      ]
     },
     "execution_count": 37,
     "metadata": {},
     "output_type": "execute_result"
    }
   ],
   "source": [
    "dados_balanceados.groupby('fraude').tempo.count()"
   ]
  },
  {
   "cell_type": "markdown",
   "id": "bfc77434",
   "metadata": {
    "heading_collapsed": true
   },
   "source": [
    "# Matriz de Correlação"
   ]
  },
  {
   "cell_type": "code",
   "execution_count": 38,
   "id": "32b84f37",
   "metadata": {
    "ExecuteTime": {
     "end_time": "2022-06-19T17:14:25.068080Z",
     "start_time": "2022-06-19T17:14:24.200602Z"
    },
    "hidden": true
   },
   "outputs": [
    {
     "data": {
      "image/png": "[encoded data removed]",
      "text/plain": [
       "<Figure size 720x720 with 2 Axes>"
      ]
     },
     "metadata": {},
     "output_type": "display_data"
    }
   ],
   "source": [
    "matrix_corr = dados_balanceados.corr()\n",
    "mask = np.zeros_like(matrix_corr)\n",
    "mask[np.triu_indices_from(mask)] = True\n",
    "cmap = sns.diverging_palette(0, 230, 90, 60, as_cmap=True)\n",
    "with sns.axes_style(\"white\"):\n",
    "    f, ax = plt.subplots(figsize=(10, 10))\n",
    "    ax = sns.heatmap(matrix_corr, mask=mask, cmap=cmap, center=0,\n",
    "            square=True, linewidths=.5, robust=True, annot= True, fmt=\".2f\")"
   ]
  },
  {
   "cell_type": "markdown",
   "id": "41fc67a6",
   "metadata": {
    "ExecuteTime": {
     "end_time": "2022-06-18T13:04:30.199535Z",
     "start_time": "2022-06-18T13:04:30.174748Z"
    },
    "hidden": true
   },
   "source": [
    " A matriz de correlação nos fornece hipóteses que permite identificar quais são as variáveis que influenciam positiva ou negativamente na identificação de uma classe da variável alvo. \n",
    " \n",
    " Podemos verificar que a variável **FRAUDE** tem correlação:\n",
    "\n",
    "**Positiva** com a variável **TRANSFERÊNCIA** (Clientes que fazem transferências, são os com mais probabilidade de efetuar uma fraude)\n",
    "    \n",
    "**Negativa** com:\n",
    "\n",
    "   - as variáveis **PAGAMENTO e CASH IN** (Clientes que fazem estes tipos de movimentações, são os com menos probabilidade de efetuar uma fraude)\n",
    "   \n",
    "   \n",
    "   - a variável **TEMPO**. (Ex: Cliente pode fazer seus pagamentos durante a manhã e a fraude ocorre durante um período diferente, como à noite)"
   ]
  },
  {
   "cell_type": "markdown",
   "id": "de8fb1dd",
   "metadata": {},
   "source": [
    "# Machine Learning"
   ]
  },
  {
   "cell_type": "markdown",
   "id": "f1ffcf8a",
   "metadata": {},
   "source": [
    "## Definindo as features (dados de entrada) e os labels (dados de saída)"
   ]
  },
  {
   "cell_type": "code",
   "execution_count": 39,
   "id": "0a311db2",
   "metadata": {
    "ExecuteTime": {
     "end_time": "2022-06-19T17:14:25.130574Z",
     "start_time": "2022-06-19T17:14:25.074174Z"
    }
   },
   "outputs": [],
   "source": [
    "x = dados_balanceados.iloc[:, 1:].values\n",
    "y = dados_balanceados.iloc[:, 0].values"
   ]
  },
  {
   "cell_type": "markdown",
   "id": "595a1300",
   "metadata": {},
   "source": [
    "## Criação de bases de treino e teste"
   ]
  },
  {
   "cell_type": "code",
   "execution_count": 40,
   "id": "38bac167",
   "metadata": {
    "ExecuteTime": {
     "end_time": "2022-06-19T17:14:25.229620Z",
     "start_time": "2022-06-19T17:14:25.153441Z"
    }
   },
   "outputs": [],
   "source": [
    "x_treino, x_teste, y_treino, y_teste = train_test_split(x, y, test_size=0.25, random_state=SEED)"
   ]
  },
  {
   "cell_type": "markdown",
   "id": "ceb8674a",
   "metadata": {},
   "source": [
    "## Regressão Logística"
   ]
  },
  {
   "cell_type": "code",
   "execution_count": 41,
   "id": "d622dc53",
   "metadata": {
    "ExecuteTime": {
     "end_time": "2022-06-19T17:14:25.670360Z",
     "start_time": "2022-06-19T17:14:25.233032Z"
    }
   },
   "outputs": [],
   "source": [
    "#criando o modelo\n",
    "lr = LogisticRegression(max_iter=1000, random_state=SEED)\n",
    "\n",
    "#treinando o modelo\n",
    "lr.fit(x_treino, y_treino)\n",
    "\n",
    "#criando previsões\n",
    "y_pred =lr.predict(x_teste)"
   ]
  },
  {
   "cell_type": "markdown",
   "id": "ac7ceec9",
   "metadata": {},
   "source": [
    "### Avaliação do modelo"
   ]
  },
  {
   "cell_type": "markdown",
   "id": "1030a0a6",
   "metadata": {},
   "source": [
    "Com o modelo treinado e as previsões feitas, utilizaremos as seguintes métricas para avaliação do modelo:\n",
    "\n",
    "   **Acurácia**, que mostra a taxa de acerto do modelo;\n",
    "   \n",
    "   **Precisão**, que é a proporção de predições corretas de uma categoria em relação a todas as predições dessa categoria;\n",
    "   \n",
    "   **Recall**, que é a proporção de predições corretas da categoria alvo;\n",
    "   \n",
    "   **F1**, que é a média harmonica entre a precisão e o recall;\n",
    "   \n",
    "   **Matriz de confusão**, que mostra a contagem dos acertos e dos erros do modelo de machine learning.\n",
    "   \n",
    "   **Curva Roc**, que avalia o desempenho do modelo a partir da relação entre a taxa de verdadeiros positivos e a taxa de falsos positivos para diferentes limites. Nós queremos que a nossa curva ROC esteja mais próxima do canto superior esquerdo porque ele vai maximizar a minha taxa de verdadeiros positivos e vai minimizar a minha taxa de falsos positivos."
   ]
  },
  {
   "cell_type": "code",
   "execution_count": 42,
   "id": "7f655a44",
   "metadata": {
    "ExecuteTime": {
     "end_time": "2022-06-19T17:14:25.755195Z",
     "start_time": "2022-06-19T17:14:25.672934Z"
    }
   },
   "outputs": [
    {
     "name": "stdout",
     "output_type": "stream",
     "text": [
      "Acurácia: 0.9417722516699837\n",
      "Precisão: 0.9241993556945234\n",
      "Recall: 0.9623125493291239\n",
      "F1: 0.9428709521507975\n"
     ]
    }
   ],
   "source": [
    "print(\"Acurácia:\",metrics.accuracy_score(y_teste, y_pred))\n",
    "print(\"Precisão:\",metrics.precision_score(y_teste, y_pred))\n",
    "print(\"Recall:\",metrics.recall_score(y_teste, y_pred)) \n",
    "print(\"F1:\",metrics.f1_score(y_teste, y_pred))"
   ]
  },
  {
   "cell_type": "markdown",
   "id": "abc76f63",
   "metadata": {},
   "source": [
    "### Matriz de Confusão"
   ]
  },
  {
   "cell_type": "code",
   "execution_count": 43,
   "id": "b093b9f2",
   "metadata": {
    "ExecuteTime": {
     "end_time": "2022-06-19T17:14:25.977588Z",
     "start_time": "2022-06-19T17:14:25.758762Z"
    }
   },
   "outputs": [
    {
     "data": {
      "text/plain": [
       "<sklearn.metrics._plot.confusion_matrix.ConfusionMatrixDisplay at 0x7f85e1e676d0>"
      ]
     },
     "execution_count": 43,
     "metadata": {},
     "output_type": "execute_result"
    },
    {
     "data": {
      "image/png": "[encoded data removed]",
      "text/plain": [
       "<Figure size 432x288 with 2 Axes>"
      ]
     },
     "metadata": {},
     "output_type": "display_data"
    }
   ],
   "source": [
    "cm = confusion_matrix(y_teste, y_pred)\n",
    "disp = ConfusionMatrixDisplay(confusion_matrix=cm)\n",
    "disp.plot()"
   ]
  },
  {
   "cell_type": "markdown",
   "id": "4965b7e2",
   "metadata": {
    "heading_collapsed": true
   },
   "source": [
    "### Curva ROC"
   ]
  },
  {
   "cell_type": "code",
   "execution_count": 44,
   "id": "fe5858e1",
   "metadata": {
    "ExecuteTime": {
     "end_time": "2022-06-19T17:14:26.388495Z",
     "start_time": "2022-06-19T17:14:25.982645Z"
    },
    "hidden": true
   },
   "outputs": [
    {
     "data": {
      "text/plain": [
       "<matplotlib.legend.Legend at 0x7f85e4ef3850>"
      ]
     },
     "execution_count": 44,
     "metadata": {},
     "output_type": "execute_result"
    },
    {
     "data": {
      "image/png": "[encoded data removed]",
      "text/plain": [
       "<Figure size 864x576 with 1 Axes>"
      ]
     },
     "metadata": {},
     "output_type": "display_data"
    }
   ],
   "source": [
    "y_pred_proba = lr.predict_proba(x_teste)[::, 1]\n",
    "fpr, tpr, _= metrics.roc_curve(y_teste, y_pred_proba)\n",
    "auc = metrics.roc_auc_score(y_teste, y_pred_proba)\n",
    "\n",
    "plt.rcParams['figure.figsize'] = (12., 8.)\n",
    "plt.plot(fpr,tpr,label=\"LR, auc=\"+str(auc))\n",
    "plt.plot([0, 1], [0, 1], color='red', lw=2, linestyle='--')\n",
    "plt.legend(loc=4)"
   ]
  },
  {
   "cell_type": "markdown",
   "id": "98e317a4",
   "metadata": {
    "hidden": true
   },
   "source": [
    "Com a **Curva Roc** conseguimos validar o modelo em si. Ela é característica de operação do receptor e quanto mais perto de 1 a curva azul fica, melhor ela é. Valor de **AUC** bom: 0.963. "
   ]
  },
  {
   "cell_type": "markdown",
   "id": "88e558d3",
   "metadata": {
    "ExecuteTime": {
     "end_time": "2022-06-01T19:10:40.384920Z",
     "start_time": "2022-06-01T19:10:40.349225Z"
    },
    "heading_collapsed": true
   },
   "source": [
    "## Árvore de decisão"
   ]
  },
  {
   "cell_type": "markdown",
   "id": "c45aa198",
   "metadata": {
    "hidden": true
   },
   "source": [
    "Utilizaremos como modelo de comparação (com a regressão logística que fizemos anteriormente) a Árvore de decisão. "
   ]
  },
  {
   "cell_type": "code",
   "execution_count": 45,
   "id": "32938819",
   "metadata": {
    "ExecuteTime": {
     "end_time": "2022-06-19T17:14:27.039008Z",
     "start_time": "2022-06-19T17:14:26.392314Z"
    },
    "hidden": true
   },
   "outputs": [],
   "source": [
    "#criando o modelo\n",
    "dt = DecisionTreeClassifier(max_depth = 5, random_state=SEED)\n",
    "\n",
    "#treinando o modelo\n",
    "model = dt.fit(x_treino, y_treino)\n",
    "\n",
    "#criando previsões\n",
    "y_pred = dt.predict(x_teste)"
   ]
  },
  {
   "cell_type": "markdown",
   "id": "c4e869b2",
   "metadata": {
    "hidden": true
   },
   "source": [
    "### Avaliação do modelo"
   ]
  },
  {
   "cell_type": "code",
   "execution_count": 46,
   "id": "91f9a7cb",
   "metadata": {
    "ExecuteTime": {
     "end_time": "2022-06-19T17:14:27.121901Z",
     "start_time": "2022-06-19T17:14:27.042594Z"
    },
    "hidden": true
   },
   "outputs": [
    {
     "name": "stdout",
     "output_type": "stream",
     "text": [
      "Acurácia: 0.9622849711324362\n",
      "Precisão: 0.9381639982043992\n",
      "Recall: 0.9897000789265983\n",
      "F1: 0.9632432017206943\n"
     ]
    }
   ],
   "source": [
    "print(\"Acurácia:\",metrics.accuracy_score(y_teste, y_pred))\n",
    "print(\"Precisão:\",metrics.precision_score(y_teste, y_pred))\n",
    "print(\"Recall:\",metrics.recall_score(y_teste, y_pred)) \n",
    "print(\"F1:\",metrics.f1_score(y_teste, y_pred))"
   ]
  },
  {
   "cell_type": "markdown",
   "id": "c0874288",
   "metadata": {
    "hidden": true
   },
   "source": [
    "### Matriz de confusão"
   ]
  },
  {
   "cell_type": "code",
   "execution_count": 47,
   "id": "2558f6f9",
   "metadata": {
    "ExecuteTime": {
     "end_time": "2022-06-19T17:14:27.380294Z",
     "start_time": "2022-06-19T17:14:27.125831Z"
    },
    "hidden": true
   },
   "outputs": [
    {
     "data": {
      "text/plain": [
       "<sklearn.metrics._plot.confusion_matrix.ConfusionMatrixDisplay at 0x7f85e4e9b220>"
      ]
     },
     "execution_count": 47,
     "metadata": {},
     "output_type": "execute_result"
    },
    {
     "data": {
      "image/png": "[encoded data removed]",
      "text/plain": [
       "<Figure size 864x576 with 2 Axes>"
      ]
     },
     "metadata": {},
     "output_type": "display_data"
    }
   ],
   "source": [
    "cm = confusion_matrix(y_teste, y_pred)\n",
    "disp = ConfusionMatrixDisplay(confusion_matrix=cm)\n",
    "disp.plot()"
   ]
  },
  {
   "cell_type": "markdown",
   "id": "c67de78b",
   "metadata": {
    "hidden": true
   },
   "source": [
    "Verificamos pela matriz de confusão que esse nosso novo modelo já está relativamente melhor que o anterior."
   ]
  },
  {
   "cell_type": "markdown",
   "id": "dbb722e6",
   "metadata": {
    "hidden": true
   },
   "source": [
    "### Curva ROC"
   ]
  },
  {
   "cell_type": "code",
   "execution_count": 48,
   "id": "f8b37de8",
   "metadata": {
    "ExecuteTime": {
     "end_time": "2022-06-19T17:14:27.648930Z",
     "start_time": "2022-06-19T17:14:27.383247Z"
    },
    "hidden": true,
    "scrolled": true
   },
   "outputs": [
    {
     "data": {
      "text/plain": [
       "<matplotlib.legend.Legend at 0x7f85e4ed41f0>"
      ]
     },
     "execution_count": 48,
     "metadata": {},
     "output_type": "execute_result"
    },
    {
     "data": {
      "image/png": "[encoded data removed]",
      "text/plain": [
       "<Figure size 864x576 with 1 Axes>"
      ]
     },
     "metadata": {},
     "output_type": "display_data"
    }
   ],
   "source": [
    "y_pred_proba = dt.predict_proba(x_teste)[::,1]\n",
    "fpr, tpr, _ = metrics.roc_curve(y_teste,  y_pred_proba)\n",
    "auc = metrics.roc_auc_score(y_teste, y_pred_proba)\n",
    "\n",
    "plt.rcParams['figure.figsize'] = (12., 8.)\n",
    "plt.plot(fpr,tpr,label=\"data 1, auc=\"+str(auc))\n",
    "plt.plot([0, 1], [0, 1], color='red', lw=2, linestyle='--')\n",
    "plt.legend(loc=4)"
   ]
  },
  {
   "cell_type": "markdown",
   "id": "3acc527f",
   "metadata": {
    "hidden": true
   },
   "source": [
    "A nova curva **ROC** está excepcionalmente boa! Com **AUC** de valor **0.988**. Quer dizer que a área sobre a curva está bem alta. É possível perceber que ela está subindo de forma muito mais linear, ou seja, está bem mais suave que a outra. Atinge o ponto 1.0 no eixo y muito mais rápido do que as outras curvas anteriores, da regressão logística, logo, concluímos que este modelo está bem melhor."
   ]
  },
  {
   "cell_type": "markdown",
   "id": "b755f17d",
   "metadata": {
    "heading_collapsed": true
   },
   "source": [
    "## Random Forest"
   ]
  },
  {
   "cell_type": "markdown",
   "id": "692ca397",
   "metadata": {
    "hidden": true
   },
   "source": [
    "Utilizaremos mais um modelo para comparação, o Random Forest, que possui várias árvores de decisão. Em tese, o Random Forest é melhor que o algoritmo de decision tree."
   ]
  },
  {
   "cell_type": "code",
   "execution_count": 49,
   "id": "a620ba1e",
   "metadata": {
    "ExecuteTime": {
     "end_time": "2022-06-19T17:14:41.439904Z",
     "start_time": "2022-06-19T17:14:27.652548Z"
    },
    "hidden": true
   },
   "outputs": [],
   "source": [
    "#criando o modelo\n",
    "rf = RandomForestClassifier(max_depth= 5, random_state = SEED)\n",
    "\n",
    "#treinando o modelo\n",
    "model = rf.fit(x_treino, y_treino)\n",
    "\n",
    "#criando previsões\n",
    "y_pred = rf.predict(x_teste)"
   ]
  },
  {
   "cell_type": "markdown",
   "id": "25d4de7e",
   "metadata": {
    "heading_collapsed": true,
    "hidden": true
   },
   "source": [
    "### Avaliação do modelo"
   ]
  },
  {
   "cell_type": "code",
   "execution_count": 50,
   "id": "960ddef1",
   "metadata": {
    "ExecuteTime": {
     "end_time": "2022-06-19T17:14:41.528536Z",
     "start_time": "2022-06-19T17:14:41.443475Z"
    },
    "hidden": true
   },
   "outputs": [
    {
     "name": "stdout",
     "output_type": "stream",
     "text": [
      "Acurácia: 0.9723738398786183\n",
      "Precisão: 0.9705165500432424\n",
      "Recall: 0.9742699289660616\n",
      "F1: 0.9723896175509079\n"
     ]
    }
   ],
   "source": [
    "print(\"Acurácia:\",metrics.accuracy_score(y_teste, y_pred))\n",
    "print(\"Precisão:\",metrics.precision_score(y_teste, y_pred))\n",
    "print(\"Recall:\",metrics.recall_score(y_teste, y_pred))\n",
    "print(\"F1:\",metrics.f1_score(y_teste, y_pred))"
   ]
  },
  {
   "cell_type": "markdown",
   "id": "f8599545",
   "metadata": {
    "heading_collapsed": true,
    "hidden": true
   },
   "source": [
    "### Matriz de confusão"
   ]
  },
  {
   "cell_type": "code",
   "execution_count": 51,
   "id": "942745de",
   "metadata": {
    "ExecuteTime": {
     "end_time": "2022-06-19T17:14:41.762390Z",
     "start_time": "2022-06-19T17:14:41.531786Z"
    },
    "hidden": true
   },
   "outputs": [
    {
     "data": {
      "text/plain": [
       "<sklearn.metrics._plot.confusion_matrix.ConfusionMatrixDisplay at 0x7f85e4eaa1f0>"
      ]
     },
     "execution_count": 51,
     "metadata": {},
     "output_type": "execute_result"
    },
    {
     "data": {
      "image/png": "[encoded data removed]",
      "text/plain": [
       "<Figure size 864x576 with 2 Axes>"
      ]
     },
     "metadata": {},
     "output_type": "display_data"
    }
   ],
   "source": [
    "cm = confusion_matrix(y_teste, y_pred)\n",
    "disp = ConfusionMatrixDisplay(confusion_matrix=cm)\n",
    "disp.plot()"
   ]
  },
  {
   "cell_type": "markdown",
   "id": "4e45cece",
   "metadata": {
    "heading_collapsed": true,
    "hidden": true
   },
   "source": [
    "### Curva ROC"
   ]
  },
  {
   "cell_type": "code",
   "execution_count": 52,
   "id": "80394bae",
   "metadata": {
    "ExecuteTime": {
     "end_time": "2022-06-19T17:14:42.408236Z",
     "start_time": "2022-06-19T17:14:41.765517Z"
    },
    "hidden": true
   },
   "outputs": [
    {
     "data": {
      "text/plain": [
       "<matplotlib.legend.Legend at 0x7f85ca7fd400>"
      ]
     },
     "execution_count": 52,
     "metadata": {},
     "output_type": "execute_result"
    },
    {
     "data": {
      "image/png": "[encoded data removed]",
      "text/plain": [
       "<Figure size 864x576 with 1 Axes>"
      ]
     },
     "metadata": {},
     "output_type": "display_data"
    }
   ],
   "source": [
    "y_pred_proba =  rf.predict_proba(x_teste)[::,1]\n",
    "fpr, tpr, _ = metrics.roc_curve(y_teste,  y_pred_proba)\n",
    "auc = metrics.roc_auc_score(y_teste, y_pred_proba)\n",
    "\n",
    "plt.rcParams['figure.figsize'] = (12., 8.)\n",
    "plt.plot(fpr,tpr,label=\"data 1, auc=\"+str(auc))\n",
    "plt.plot([0, 1], [0, 1], color='red', lw=2, linestyle='--')\n",
    "plt.legend(loc=4)"
   ]
  },
  {
   "cell_type": "markdown",
   "id": "b1bb32bf",
   "metadata": {
    "hidden": true
   },
   "source": [
    "Tivemos uma acurácia bem alta e outros valores também, todos em torno de **97%**.\n",
    "Já utilizando a matriz de confusão, não tivemos resultados tão bons quanto os anteriores.\n",
    "O resultado da curva ROC foi de **0.997**, melhor que a anterior. Até fez uma \"curvinha\" próxima ao ponto 1.0 no eixo y e não mais uma reta, que aparecia na anterior. Ela sobe mais rápido e quanto mais ráida é a subida, mais suave é a curva. "
   ]
  },
  {
   "cell_type": "markdown",
   "id": "dab30646",
   "metadata": {},
   "source": [
    "## Análise das Métricas"
   ]
  },
  {
   "cell_type": "code",
   "execution_count": 53,
   "id": "dd605609",
   "metadata": {
    "ExecuteTime": {
     "end_time": "2022-06-19T17:14:42.420207Z",
     "start_time": "2022-06-19T17:14:42.412150Z"
    }
   },
   "outputs": [],
   "source": [
    "classifiers = [ \n",
    "    LogisticRegression(max_iter=1000, random_state=SEED),\n",
    "    DecisionTreeClassifier(max_depth = 5, random_state=SEED),\n",
    "    RandomForestClassifier(max_depth= 5, random_state=SEED)]"
   ]
  },
  {
   "cell_type": "code",
   "execution_count": 54,
   "id": "cd8bf72d",
   "metadata": {
    "ExecuteTime": {
     "end_time": "2022-06-19T17:14:57.901931Z",
     "start_time": "2022-06-19T17:14:42.423535Z"
    }
   },
   "outputs": [
    {
     "name": "stdout",
     "output_type": "stream",
     "text": [
      "==============================\n",
      "LogisticRegression\n",
      "****Resultados****\n",
      "Accuracy: 0.9417722516699837\n",
      "Precision: 0.9241993556945234\n",
      "Recall: 0.9623125493291239\n",
      "F1: 0.9428709521507975\n",
      "==============================\n",
      "DecisionTreeClassifier\n",
      "****Resultados****\n",
      "Accuracy: 0.9622849711324362\n",
      "Precision: 0.9381639982043992\n",
      "Recall: 0.9897000789265983\n",
      "F1: 0.9632432017206943\n",
      "==============================\n",
      "RandomForestClassifier\n",
      "****Resultados****\n",
      "Accuracy: 0.9723738398786183\n",
      "Precision: 0.9705165500432424\n",
      "Recall: 0.9742699289660616\n",
      "F1: 0.9723896175509079\n"
     ]
    },
    {
     "data": {
      "image/png": "[encoded data removed]",
      "text/plain": [
       "<Figure size 864x576 with 2 Axes>"
      ]
     },
     "metadata": {},
     "output_type": "display_data"
    },
    {
     "data": {
      "image/png": "[encoded data removed]",
      "text/plain": [
       "<Figure size 864x576 with 2 Axes>"
      ]
     },
     "metadata": {},
     "output_type": "display_data"
    },
    {
     "data": {
      "image/png": "[encoded data removed]",
      "text/plain": [
       "<Figure size 864x576 with 2 Axes>"
      ]
     },
     "metadata": {},
     "output_type": "display_data"
    }
   ],
   "source": [
    "for clf in classifiers:\n",
    "  clf.fit(x_treino, y_treino)\n",
    "  name = clf.__class__.__name__\n",
    "  print(\"=\"*30)\n",
    "  print(name)\n",
    "  print('****Resultados****')\n",
    "  y_pred = clf.predict(x_teste)\n",
    "  print(\"Accuracy:\", metrics.accuracy_score(y_teste, y_pred))\n",
    "  print(\"Precision:\", metrics.precision_score(y_teste, y_pred))\n",
    "  print(\"Recall:\", metrics.recall_score(y_teste, y_pred))\n",
    "  print(\"F1:\", metrics.f1_score(y_teste, y_pred))\n",
    "  \n",
    "  cm = confusion_matrix(y_teste, y_pred)\n",
    "  disp = ConfusionMatrixDisplay(confusion_matrix=cm)\n",
    "  disp.plot()"
   ]
  },
  {
   "cell_type": "markdown",
   "id": "5069e3b9",
   "metadata": {},
   "source": [
    "Para a análise das métricas, começaremos verificando as métricas gerais e analisando qual está melhor. As métricas da regressão logística estão com valores inferiores se comparados aos das outras métricas. A do Random Forest está bem melhor. Sua acurácia, por exemplo, é de **97%**. A única métrica de valor maior, em relação ao Random Forest, é a de Recall, da Árvore de Decisão, de **98,97%** contra **97,42%** no Random Forest. Então, no geral, o **Random Forest** se saiu melhor, o que já era esperado, considerando as várias árvores que ele contém."
   ]
  },
  {
   "cell_type": "markdown",
   "id": "5555e519",
   "metadata": {},
   "source": [
    "## Melhorando o modelo Random Forest"
   ]
  },
  {
   "cell_type": "markdown",
   "id": "0f43b812",
   "metadata": {},
   "source": [
    "Utilizaremos o método **Randomizedsearchcv** que faz a melhoria do modelo automaticamente, basta adicionar os hiperparâmetros que desejamos melhorar e ele fará a melhoria com base no modelo."
   ]
  },
  {
   "cell_type": "markdown",
   "id": "59418ae9",
   "metadata": {},
   "source": [
    "### Definição dos parâmetros do Random Forest "
   ]
  },
  {
   "cell_type": "code",
   "execution_count": 55,
   "id": "f2aedd95",
   "metadata": {
    "ExecuteTime": {
     "end_time": "2022-06-19T17:14:57.920379Z",
     "start_time": "2022-06-19T17:14:57.905170Z"
    }
   },
   "outputs": [],
   "source": [
    "n_estimators = np.arange(20, 200, step=20)\n",
    "criterion = [\"gini\", \"entropy\"]\n",
    "max_features = [\"auto\", \"sqrt\", \"log2\"]\n",
    "max_depth = list(np.arange(2, 10, step=1))\n",
    "min_samples_split = np.arange(2, 10, step=2)\n",
    "min_samples_leaf = [1, 2, 4]\n",
    "bootstrap = [True, False]"
   ]
  },
  {
   "cell_type": "markdown",
   "id": "589ace66",
   "metadata": {},
   "source": [
    "O critério de impureza **Gini** serve para medir a frequência com que um elemento escolhido aleatoriamente pode ser identificado incorretamente. Quanto menor o valor, mais puros são os dados e menor o erro cometido.\n",
    "\n",
    "O critério de **entropia** para ganho de informação é o menor número médio de perguntas binárias (sim ou não) necessário para identificar a saída de uma fonte. Esse valor informa quão informativas são as características para serem selecionadas. Desse modo, quanto maior a entropia, maior o conteúdo da informação."
   ]
  },
  {
   "cell_type": "code",
   "execution_count": 56,
   "id": "6cdc1906",
   "metadata": {
    "ExecuteTime": {
     "end_time": "2022-06-19T17:14:57.930600Z",
     "start_time": "2022-06-19T17:14:57.924839Z"
    }
   },
   "outputs": [],
   "source": [
    "param_grid = {\n",
    "    \"n_estimators\": n_estimators,\n",
    "    \"criterion\": criterion,\n",
    "    \"max_features\": max_features,\n",
    "    \"max_depth\": max_depth,\n",
    "    \"min_samples_split\": min_samples_split,\n",
    "    \"min_samples_leaf\": min_samples_leaf,\n",
    "    \"bootstrap\": bootstrap}"
   ]
  },
  {
   "cell_type": "markdown",
   "id": "740c6ecc",
   "metadata": {},
   "source": [
    "### Aplicando o RandomizedSearchCv"
   ]
  },
  {
   "cell_type": "code",
   "execution_count": 57,
   "id": "96afeec1",
   "metadata": {
    "ExecuteTime": {
     "end_time": "2022-06-19T17:14:57.945579Z",
     "start_time": "2022-06-19T17:14:57.939543Z"
    }
   },
   "outputs": [],
   "source": [
    "rforest = RandomForestClassifier(random_state=SEED)"
   ]
  },
  {
   "cell_type": "code",
   "execution_count": 58,
   "id": "0cebdeb8",
   "metadata": {
    "ExecuteTime": {
     "end_time": "2022-06-19T17:14:57.958658Z",
     "start_time": "2022-06-19T17:14:57.950400Z"
    }
   },
   "outputs": [],
   "source": [
    "random_cv = RandomizedSearchCV(\n",
    "    rforest, param_grid, n_iter=5, cv=3, scoring=\"recall\", n_jobs=-1, random_state = SEED)"
   ]
  },
  {
   "cell_type": "markdown",
   "id": "03eaf4d0",
   "metadata": {},
   "source": [
    "o **Recall** é a métrica que desejávamos melhorar, pois estamos lidando com casos de fraude. \n",
    "Não queremos deixar o cliente insatisfeito e fazer com que ele receba uma notificação de que ele está fazendo uma fraude, sendo que ele não está, porém, é muito mais perigoso deixar passar uma fraude que deixar com que os avisos aconteçam. "
   ]
  },
  {
   "cell_type": "markdown",
   "id": "afd90541",
   "metadata": {},
   "source": [
    "### Treinando o random_cv"
   ]
  },
  {
   "cell_type": "code",
   "execution_count": 59,
   "id": "76a384d3",
   "metadata": {
    "ExecuteTime": {
     "end_time": "2022-06-19T17:18:53.173286Z",
     "start_time": "2022-06-19T17:14:57.962814Z"
    }
   },
   "outputs": [
    {
     "name": "stderr",
     "output_type": "stream",
     "text": [
      "/Users/luana/opt/anaconda3/lib/python3.9/site-packages/sklearn/ensemble/_forest.py:427: FutureWarning: `max_features='auto'` has been deprecated in 1.1 and will be removed in 1.3. To keep the past behaviour, explicitly set `max_features='sqrt'` or remove this parameter as it is also the default value for RandomForestClassifiers and ExtraTreesClassifiers.\n",
      "  warn(\n",
      "/Users/luana/opt/anaconda3/lib/python3.9/site-packages/sklearn/ensemble/_forest.py:427: FutureWarning: `max_features='auto'` has been deprecated in 1.1 and will be removed in 1.3. To keep the past behaviour, explicitly set `max_features='sqrt'` or remove this parameter as it is also the default value for RandomForestClassifiers and ExtraTreesClassifiers.\n",
      "  warn(\n",
      "/Users/luana/opt/anaconda3/lib/python3.9/site-packages/sklearn/ensemble/_forest.py:427: FutureWarning: `max_features='auto'` has been deprecated in 1.1 and will be removed in 1.3. To keep the past behaviour, explicitly set `max_features='sqrt'` or remove this parameter as it is also the default value for RandomForestClassifiers and ExtraTreesClassifiers.\n",
      "  warn(\n"
     ]
    },
    {
     "name": "stdout",
     "output_type": "stream",
     "text": [
      "CPU times: user 43.5 s, sys: 1.11 s, total: 44.6 s\n",
      "Wall time: 3min 55s\n"
     ]
    }
   ],
   "source": [
    "%%time\n",
    "rcv = random_cv.fit(x, y)"
   ]
  },
  {
   "cell_type": "markdown",
   "id": "dd443b2a",
   "metadata": {},
   "source": [
    "### Verificando os cinco parâmetros escolhidos"
   ]
  },
  {
   "cell_type": "code",
   "execution_count": 60,
   "id": "01afe4a8",
   "metadata": {
    "ExecuteTime": {
     "end_time": "2022-06-19T17:18:53.493450Z",
     "start_time": "2022-06-19T17:18:53.204613Z"
    }
   },
   "outputs": [
    {
     "data": {
      "text/html": [
       "<div>\n",
       "<style scoped>\n",
       "    .dataframe tbody tr th:only-of-type {\n",
       "        vertical-align: middle;\n",
       "    }\n",
       "\n",
       "    .dataframe tbody tr th {\n",
       "        vertical-align: top;\n",
       "    }\n",
       "\n",
       "    .dataframe thead th {\n",
       "        text-align: right;\n",
       "    }\n",
       "</style>\n",
       "<table border=\"1\" class=\"dataframe\">\n",
       "  <thead>\n",
       "    <tr style=\"text-align: right;\">\n",
       "      <th></th>\n",
       "      <th>mean_fit_time</th>\n",
       "      <th>std_fit_time</th>\n",
       "      <th>mean_score_time</th>\n",
       "      <th>std_score_time</th>\n",
       "      <th>param_n_estimators</th>\n",
       "      <th>param_min_samples_split</th>\n",
       "      <th>param_min_samples_leaf</th>\n",
       "      <th>param_max_features</th>\n",
       "      <th>param_max_depth</th>\n",
       "      <th>param_criterion</th>\n",
       "      <th>param_bootstrap</th>\n",
       "      <th>params</th>\n",
       "      <th>split0_test_score</th>\n",
       "      <th>split1_test_score</th>\n",
       "      <th>split2_test_score</th>\n",
       "      <th>mean_test_score</th>\n",
       "      <th>std_test_score</th>\n",
       "      <th>rank_test_score</th>\n",
       "    </tr>\n",
       "  </thead>\n",
       "  <tbody>\n",
       "    <tr>\n",
       "      <th>0</th>\n",
       "      <td>116.01</td>\n",
       "      <td>1.91</td>\n",
       "      <td>2.39</td>\n",
       "      <td>0.03</td>\n",
       "      <td>160</td>\n",
       "      <td>8</td>\n",
       "      <td>1</td>\n",
       "      <td>sqrt</td>\n",
       "      <td>8</td>\n",
       "      <td>gini</td>\n",
       "      <td>False</td>\n",
       "      <td>{'n_estimators': 160, 'min_samples_split': 8, 'min_samples_leaf': 1, 'max_features': 'sqrt', 'max_depth': 8, 'criterion': 'gini', 'bootstrap': False}</td>\n",
       "      <td>0.99</td>\n",
       "      <td>1.00</td>\n",
       "      <td>0.99</td>\n",
       "      <td>0.99</td>\n",
       "      <td>0.00</td>\n",
       "      <td>1</td>\n",
       "    </tr>\n",
       "    <tr>\n",
       "      <th>1</th>\n",
       "      <td>40.98</td>\n",
       "      <td>20.40</td>\n",
       "      <td>1.84</td>\n",
       "      <td>1.02</td>\n",
       "      <td>120</td>\n",
       "      <td>8</td>\n",
       "      <td>4</td>\n",
       "      <td>sqrt</td>\n",
       "      <td>4</td>\n",
       "      <td>gini</td>\n",
       "      <td>True</td>\n",
       "      <td>{'n_estimators': 120, 'min_samples_split': 8, 'min_samples_leaf': 4, 'max_features': 'sqrt', 'max_depth': 4, 'criterion': 'gini', 'bootstrap': True}</td>\n",
       "      <td>0.96</td>\n",
       "      <td>1.00</td>\n",
       "      <td>0.97</td>\n",
       "      <td>0.98</td>\n",
       "      <td>0.01</td>\n",
       "      <td>2</td>\n",
       "    </tr>\n",
       "    <tr>\n",
       "      <th>2</th>\n",
       "      <td>36.13</td>\n",
       "      <td>0.33</td>\n",
       "      <td>1.95</td>\n",
       "      <td>0.03</td>\n",
       "      <td>180</td>\n",
       "      <td>6</td>\n",
       "      <td>4</td>\n",
       "      <td>sqrt</td>\n",
       "      <td>2</td>\n",
       "      <td>gini</td>\n",
       "      <td>False</td>\n",
       "      <td>{'n_estimators': 180, 'min_samples_split': 6, 'min_samples_leaf': 4, 'max_features': 'sqrt', 'max_depth': 2, 'criterion': 'gini', 'bootstrap': False}</td>\n",
       "      <td>0.93</td>\n",
       "      <td>0.95</td>\n",
       "      <td>0.95</td>\n",
       "      <td>0.94</td>\n",
       "      <td>0.01</td>\n",
       "      <td>5</td>\n",
       "    </tr>\n",
       "    <tr>\n",
       "      <th>3</th>\n",
       "      <td>28.21</td>\n",
       "      <td>2.33</td>\n",
       "      <td>1.61</td>\n",
       "      <td>0.51</td>\n",
       "      <td>160</td>\n",
       "      <td>2</td>\n",
       "      <td>1</td>\n",
       "      <td>auto</td>\n",
       "      <td>2</td>\n",
       "      <td>gini</td>\n",
       "      <td>False</td>\n",
       "      <td>{'n_estimators': 160, 'min_samples_split': 2, 'min_samples_leaf': 1, 'max_features': 'auto', 'max_depth': 2, 'criterion': 'gini', 'bootstrap': False}</td>\n",
       "      <td>0.94</td>\n",
       "      <td>0.95</td>\n",
       "      <td>0.95</td>\n",
       "      <td>0.94</td>\n",
       "      <td>0.01</td>\n",
       "      <td>4</td>\n",
       "    </tr>\n",
       "    <tr>\n",
       "      <th>4</th>\n",
       "      <td>9.50</td>\n",
       "      <td>0.81</td>\n",
       "      <td>0.50</td>\n",
       "      <td>0.01</td>\n",
       "      <td>40</td>\n",
       "      <td>4</td>\n",
       "      <td>1</td>\n",
       "      <td>log2</td>\n",
       "      <td>3</td>\n",
       "      <td>gini</td>\n",
       "      <td>False</td>\n",
       "      <td>{'n_estimators': 40, 'min_samples_split': 4, 'min_samples_leaf': 1, 'max_features': 'log2', 'max_depth': 3, 'criterion': 'gini', 'bootstrap': False}</td>\n",
       "      <td>0.94</td>\n",
       "      <td>0.99</td>\n",
       "      <td>0.99</td>\n",
       "      <td>0.97</td>\n",
       "      <td>0.02</td>\n",
       "      <td>3</td>\n",
       "    </tr>\n",
       "  </tbody>\n",
       "</table>\n",
       "</div>"
      ],
      "text/plain": [
       "   mean_fit_time  std_fit_time  mean_score_time  std_score_time  \\\n",
       "0         116.01          1.91             2.39            0.03   \n",
       "1          40.98         20.40             1.84            1.02   \n",
       "2          36.13          0.33             1.95            0.03   \n",
       "3          28.21          2.33             1.61            0.51   \n",
       "4           9.50          0.81             0.50            0.01   \n",
       "\n",
       "  param_n_estimators param_min_samples_split param_min_samples_leaf  \\\n",
       "0                160                       8                      1   \n",
       "1                120                       8                      4   \n",
       "2                180                       6                      4   \n",
       "3                160                       2                      1   \n",
       "4                 40                       4                      1   \n",
       "\n",
       "  param_max_features param_max_depth param_criterion param_bootstrap  \\\n",
       "0               sqrt               8            gini           False   \n",
       "1               sqrt               4            gini            True   \n",
       "2               sqrt               2            gini           False   \n",
       "3               auto               2            gini           False   \n",
       "4               log2               3            gini           False   \n",
       "\n",
       "                                                                                                                                                  params  \\\n",
       "0  {'n_estimators': 160, 'min_samples_split': 8, 'min_samples_leaf': 1, 'max_features': 'sqrt', 'max_depth': 8, 'criterion': 'gini', 'bootstrap': False}   \n",
       "1   {'n_estimators': 120, 'min_samples_split': 8, 'min_samples_leaf': 4, 'max_features': 'sqrt', 'max_depth': 4, 'criterion': 'gini', 'bootstrap': True}   \n",
       "2  {'n_estimators': 180, 'min_samples_split': 6, 'min_samples_leaf': 4, 'max_features': 'sqrt', 'max_depth': 2, 'criterion': 'gini', 'bootstrap': False}   \n",
       "3  {'n_estimators': 160, 'min_samples_split': 2, 'min_samples_leaf': 1, 'max_features': 'auto', 'max_depth': 2, 'criterion': 'gini', 'bootstrap': False}   \n",
       "4   {'n_estimators': 40, 'min_samples_split': 4, 'min_samples_leaf': 1, 'max_features': 'log2', 'max_depth': 3, 'criterion': 'gini', 'bootstrap': False}   \n",
       "\n",
       "   split0_test_score  split1_test_score  split2_test_score  mean_test_score  \\\n",
       "0               0.99               1.00               0.99             0.99   \n",
       "1               0.96               1.00               0.97             0.98   \n",
       "2               0.93               0.95               0.95             0.94   \n",
       "3               0.94               0.95               0.95             0.94   \n",
       "4               0.94               0.99               0.99             0.97   \n",
       "\n",
       "   std_test_score  rank_test_score  \n",
       "0            0.00                1  \n",
       "1            0.01                2  \n",
       "2            0.01                5  \n",
       "3            0.01                4  \n",
       "4            0.02                3  "
      ]
     },
     "execution_count": 60,
     "metadata": {},
     "output_type": "execute_result"
    }
   ],
   "source": [
    "pd.DataFrame(rcv.cv_results_)"
   ]
  },
  {
   "cell_type": "code",
   "execution_count": 61,
   "id": "28f5e9ce",
   "metadata": {
    "ExecuteTime": {
     "end_time": "2022-06-19T17:18:53.512638Z",
     "start_time": "2022-06-19T17:18:53.498889Z"
    }
   },
   "outputs": [
    {
     "data": {
      "text/plain": [
       "{'n_estimators': 160,\n",
       " 'min_samples_split': 8,\n",
       " 'min_samples_leaf': 1,\n",
       " 'max_features': 'sqrt',\n",
       " 'max_depth': 8,\n",
       " 'criterion': 'gini',\n",
       " 'bootstrap': False}"
      ]
     },
     "execution_count": 61,
     "metadata": {},
     "output_type": "execute_result"
    }
   ],
   "source": [
    "rcv.best_params_"
   ]
  },
  {
   "cell_type": "markdown",
   "id": "bd220af8",
   "metadata": {},
   "source": [
    "Na coluna **\"rank_test_score\"**, está indicado que o primeiro valor foi o melhor. Ele escolhe a partir da coluna de parâmetros, isto é, \"params\", é dela, portanto, que precisamos."
   ]
  },
  {
   "cell_type": "markdown",
   "id": "22f6f7f1",
   "metadata": {},
   "source": [
    "### Aplicando os melhores parâmetros escolhidos pelo Randomizedsearchcv dentro do Random Forest"
   ]
  },
  {
   "cell_type": "code",
   "execution_count": 62,
   "id": "08862ee4",
   "metadata": {
    "ExecuteTime": {
     "end_time": "2022-06-19T17:19:36.988916Z",
     "start_time": "2022-06-19T17:18:53.516991Z"
    }
   },
   "outputs": [],
   "source": [
    "#criando o modelo\n",
    "rfn = RandomForestClassifier(**rcv.best_params_, random_state = SEED)\n",
    "\n",
    "#treinando o modelo\n",
    "model = rfn.fit(x_treino, y_treino)\n",
    "\n",
    "#criando previsões\n",
    "y_pred = rfn.predict(x_teste)"
   ]
  },
  {
   "cell_type": "markdown",
   "id": "8a8ff720",
   "metadata": {},
   "source": [
    "## Análise das métricas"
   ]
  },
  {
   "cell_type": "code",
   "execution_count": 63,
   "id": "acca6d8a",
   "metadata": {
    "ExecuteTime": {
     "end_time": "2022-06-19T17:19:37.131854Z",
     "start_time": "2022-06-19T17:19:36.995524Z"
    }
   },
   "outputs": [
    {
     "name": "stdout",
     "output_type": "stream",
     "text": [
      "Acurácia: 0.9903643421545252\n",
      "Precisão: 0.9868354033616737\n",
      "Recall: 0.9939621152328335\n",
      "F1: 0.9903859386980712\n"
     ]
    }
   ],
   "source": [
    "print(\"Acurácia:\",metrics.accuracy_score(y_teste, y_pred))\n",
    "print(\"Precisão:\",metrics.precision_score(y_teste, y_pred))\n",
    "print(\"Recall:\",metrics.recall_score(y_teste, y_pred)) \n",
    "print(\"F1:\",metrics.f1_score(y_teste, y_pred))"
   ]
  },
  {
   "cell_type": "code",
   "execution_count": 64,
   "id": "716d430f",
   "metadata": {
    "ExecuteTime": {
     "end_time": "2022-06-19T17:19:37.721248Z",
     "start_time": "2022-06-19T17:19:37.137253Z"
    }
   },
   "outputs": [
    {
     "data": {
      "text/plain": [
       "<sklearn.metrics._plot.confusion_matrix.ConfusionMatrixDisplay at 0x7f85caab5b50>"
      ]
     },
     "execution_count": 64,
     "metadata": {},
     "output_type": "execute_result"
    },
    {
     "data": {
      "image/png": "[encoded data removed]",
      "text/plain": [
       "<Figure size 864x576 with 2 Axes>"
      ]
     },
     "metadata": {},
     "output_type": "display_data"
    }
   ],
   "source": [
    "cm = confusion_matrix(y_teste, y_pred)\n",
    "disp = ConfusionMatrixDisplay(confusion_matrix=cm)\n",
    "disp.plot()"
   ]
  },
  {
   "cell_type": "markdown",
   "id": "53552aaa",
   "metadata": {},
   "source": [
    "Então, os **resultados estão bem melhores** que a última vez que calculamos. Conseguimos diminuir os falsos positivos de 750 para 336 e os falsos negativos de 652 para 153. Significa que estamos deixando passar apenas 153 fraudes e estamos ligando para apenas 336 pessoas."
   ]
  },
  {
   "cell_type": "markdown",
   "id": "e04fb88c",
   "metadata": {},
   "source": [
    "# Conclusões"
   ]
  },
  {
   "cell_type": "markdown",
   "id": "6e9df668",
   "metadata": {},
   "source": [
    "Pontos importantes para a **detecção de fraude**:\n",
    "\n",
    "\n",
    "   - Tipos de movimentação **transferências e cash-out** são os com mais probabilidade de ser uma fraude. **Plano de ação**: Solicitar uma verificação de informação adicional, com uma pergunta de segurança, quando as movimentações forem do tipo transferência ou cash-out;\n",
    "   \n",
    " \n",
    "   - Tipos de movimentação **pagamento e cash-in** são os com menos probabilidade de ser uma fraude. \n",
    "   \n",
    "   \n",
    "   - Quando o padrão de compra do cliente é em determinado horário, a transação **fraude costuma ocorrer em período diferente do padrão** (ex: padrão de movimentação pela manhã - fraude pela noite, padrão de movimentação início do mês - fraude final de mês. **Plano de ação**: Uma verificação que pode aumentar a segurança do cliente em horários que não são convencionais.\n",
    "   \n",
    "   \n",
    "   - A grande maioria das fraudes **esvaziam os fundos** do cliente 1, transferindo para outra conta e depois **sacando do sistema.** **Plano de ação**: Solicitar uma verificação de informação adicional, com uma pergunta de segurança, quando o valor da movimentação for igual ao valor total da conta;"
   ]
  },
  {
   "cell_type": "code",
   "execution_count": null,
   "id": "ed5fe40e",
   "metadata": {},
   "outputs": [],
   "source": []
  }
 ],
 "metadata": {
  "kernelspec": {
   "display_name": "Python 3 (ipykernel)",
   "language": "python",
   "name": "python3"
  },
  "language_info": {
   "codemirror_mode": {
    "name": "ipython",
    "version": 3
   },
   "file_extension": ".py",
   "mimetype": "text/x-python",
   "name": "python",
   "nbconvert_exporter": "python",
   "pygments_lexer": "ipython3",
   "version": "3.9.7"
  }
 },
 "nbformat": 4,
 "nbformat_minor": 5
}
